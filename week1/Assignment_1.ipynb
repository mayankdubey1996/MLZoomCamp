{
 "cells": [
  {
   "cell_type": "code",
   "execution_count": 79,
   "id": "accepting-thermal",
   "metadata": {},
   "outputs": [],
   "source": [
    "import numpy as np\n",
    "import pandas as pd"
   ]
  },
  {
   "cell_type": "code",
   "execution_count": 80,
   "id": "portuguese-colony",
   "metadata": {},
   "outputs": [],
   "source": [
    "pd.set_option('display.float_format', lambda x: '%.5f' % x)"
   ]
  },
  {
   "cell_type": "markdown",
   "id": "preceding-bedroom",
   "metadata": {},
   "source": [
    "#### 1. What's the version of NumPy that you installed?"
   ]
  },
  {
   "cell_type": "code",
   "execution_count": 81,
   "id": "controlling-swing",
   "metadata": {},
   "outputs": [
    {
     "name": "stdout",
     "output_type": "stream",
     "text": [
      "1.23.2\n"
     ]
    }
   ],
   "source": [
    "print(np.__version__)"
   ]
  },
  {
   "cell_type": "markdown",
   "id": "b6864e94",
   "metadata": {},
   "source": [
    "#### 2 Number of records in the dataset"
   ]
  },
  {
   "cell_type": "code",
   "execution_count": 82,
   "id": "0aa6381b",
   "metadata": {},
   "outputs": [],
   "source": [
    "df = pd.read_csv('BMW_data.csv')"
   ]
  },
  {
   "cell_type": "code",
   "execution_count": 83,
   "id": "fe5e8d89",
   "metadata": {},
   "outputs": [
    {
     "data": {
      "text/plain": [
       "11914"
      ]
     },
     "execution_count": 83,
     "metadata": {},
     "output_type": "execute_result"
    }
   ],
   "source": [
    "df.shape[0]"
   ]
  },
  {
   "cell_type": "markdown",
   "id": "5d36e116",
   "metadata": {},
   "source": [
    "#### 3: The most popular car manufacturers"
   ]
  },
  {
   "cell_type": "code",
   "execution_count": 84,
   "id": "dbbe20b5",
   "metadata": {},
   "outputs": [],
   "source": [
    "d = df['Make'].value_counts().to_dict()"
   ]
  },
  {
   "cell_type": "code",
   "execution_count": 85,
   "id": "6dc70ec6",
   "metadata": {},
   "outputs": [
    {
     "data": {
      "text/plain": [
       "{'Spyker': 3,\n",
       " 'Genesis': 3,\n",
       " 'Bugatti': 3,\n",
       " 'Alfa Romeo': 5,\n",
       " 'McLaren': 5,\n",
       " 'Maybach': 16,\n",
       " 'HUMMER': 17,\n",
       " 'Tesla': 18,\n",
       " 'Lotus': 29,\n",
       " 'Rolls-Royce': 31,\n",
       " 'Lamborghini': 52,\n",
       " 'Maserati': 58,\n",
       " 'Scion': 60,\n",
       " 'FIAT': 62,\n",
       " 'Ferrari': 69,\n",
       " 'Bentley': 74,\n",
       " 'Plymouth': 82,\n",
       " 'Aston Martin': 93,\n",
       " 'Saab': 111,\n",
       " 'Porsche': 136,\n",
       " 'Land Rover': 143,\n",
       " 'Oldsmobile': 150,\n",
       " 'Lincoln': 164,\n",
       " 'Pontiac': 186,\n",
       " 'Chrysler': 187,\n",
       " 'Buick': 196,\n",
       " 'Lexus': 202,\n",
       " 'Mitsubishi': 213,\n",
       " 'Kia': 231,\n",
       " 'Acura': 252,\n",
       " 'Subaru': 256,\n",
       " 'Volvo': 281,\n",
       " 'Hyundai': 303,\n",
       " 'Audi': 328,\n",
       " 'Infiniti': 330,\n",
       " 'BMW': 334,\n",
       " 'Suzuki': 351,\n",
       " 'Mercedes-Benz': 353,\n",
       " 'Cadillac': 397,\n",
       " 'Mazda': 423,\n",
       " 'Honda': 449,\n",
       " 'GMC': 515,\n",
       " 'Nissan': 558,\n",
       " 'Dodge': 626,\n",
       " 'Toyota': 746,\n",
       " 'Volkswagen': 809,\n",
       " 'Ford': 881,\n",
       " 'Chevrolet': 1123}"
      ]
     },
     "execution_count": 85,
     "metadata": {},
     "output_type": "execute_result"
    }
   ],
   "source": [
    "dict(sorted(d.items(), key=lambda item: item[1]))"
   ]
  },
  {
   "cell_type": "markdown",
   "id": "8ddcf66c",
   "metadata": {},
   "source": [
    "#### 4: Number of unique Audi car models"
   ]
  },
  {
   "cell_type": "code",
   "execution_count": 86,
   "id": "66cf22c6",
   "metadata": {},
   "outputs": [
    {
     "data": {
      "text/plain": [
       "34"
      ]
     },
     "execution_count": 86,
     "metadata": {},
     "output_type": "execute_result"
    }
   ],
   "source": [
    "audi = df[df['Make']=='Audi']\n",
    "len(audi['Model'].unique())"
   ]
  },
  {
   "cell_type": "markdown",
   "id": "34ad8816",
   "metadata": {},
   "source": [
    "#### 5: Number of columns with missing values"
   ]
  },
  {
   "cell_type": "code",
   "execution_count": 87,
   "id": "b3abdc12",
   "metadata": {},
   "outputs": [
    {
     "name": "stdout",
     "output_type": "stream",
     "text": [
      "5\n"
     ]
    }
   ],
   "source": [
    "missing_values_dict = df.isnull().sum().to_dict()\n",
    "count = 0\n",
    "for col in missing_values_dict:\n",
    "    if missing_values[col]>0:\n",
    "        count+=1\n",
    "print(count)"
   ]
  },
  {
   "cell_type": "markdown",
   "id": "304318c4",
   "metadata": {},
   "source": [
    "#### 6: Does the median value change after filling missing values?\n",
    "\n",
    "- Find the median value of \"Engine Cylinders\" column in the dataset.\n",
    "- Next, calculate the most frequent value of the same \"Engine Cylinders\".\n",
    "- Use the fillna method to fill the missing values in \"Engine Cylinders\" with the most frequent value from the previous step.\n",
    "- Now, calculate the median value of \"Engine Cylinders\" once again. Has it changed?\n",
    "\n",
    "- Hint: refer to existing mode and median functions to complete the task.\n"
   ]
  },
  {
   "cell_type": "code",
   "execution_count": 88,
   "id": "6059b483",
   "metadata": {},
   "outputs": [
    {
     "data": {
      "text/plain": [
       "6.0"
      ]
     },
     "execution_count": 88,
     "metadata": {},
     "output_type": "execute_result"
    }
   ],
   "source": [
    "# median before imputing value\n",
    "df['Engine Cylinders'].median()"
   ]
  },
  {
   "cell_type": "code",
   "execution_count": 89,
   "id": "a8cce138",
   "metadata": {},
   "outputs": [
    {
     "data": {
      "text/plain": [
       "0   4.00000\n",
       "Name: Engine Cylinders, dtype: float64"
      ]
     },
     "execution_count": 89,
     "metadata": {},
     "output_type": "execute_result"
    }
   ],
   "source": [
    "# mode before imputing value\n",
    "df['Engine Cylinders'].mode()"
   ]
  },
  {
   "cell_type": "code",
   "execution_count": 90,
   "id": "e0349ee2",
   "metadata": {},
   "outputs": [],
   "source": [
    "#imputing value\n",
    "df['Engine Cylinders'].fillna(df['Engine Cylinders'].mode(), inplace=True)"
   ]
  },
  {
   "cell_type": "code",
   "execution_count": 91,
   "id": "66659c0f",
   "metadata": {},
   "outputs": [
    {
     "data": {
      "text/plain": [
       "6.0"
      ]
     },
     "execution_count": 91,
     "metadata": {},
     "output_type": "execute_result"
    }
   ],
   "source": [
    "# median after imputing value\n",
    "df['Engine Cylinders'].median()"
   ]
  },
  {
   "cell_type": "markdown",
   "id": "2da96993",
   "metadata": {},
   "source": [
    "#### Question 7\n",
    "- Select all the \"Lotus\" cars from the dataset.\n",
    "- Select only columns \"Engine HP\", \"Engine Cylinders\".\n",
    "- Now drop all duplicated rows using drop_duplicates method (you should get a dataframe with 9 rows).\n",
    "- Get the underlying NumPy array. Let's call it X.\n",
    "- Compute matrix-matrix multiplication between the transpose of X and X. To get the transpose, use X.T. Let's call the result XTX.\n",
    "- Invert XTX.\n",
    "- Create an array y with values [1100, 800, 750, 850, 1300, 1000, 1000, 1300, 800].\n",
    "- Multiply the inverse of XTX with the transpose of X, and then multiply the result by y. Call the result w.\n",
    "- What's the value of the first element of w?"
   ]
  },
  {
   "cell_type": "code",
   "execution_count": 95,
   "id": "261c3e98",
   "metadata": {},
   "outputs": [
    {
     "name": "stdout",
     "output_type": "stream",
     "text": [
      "[  4.59494481 -63.56432501]\n"
     ]
    }
   ],
   "source": [
    "# Select all the \"Lotus\" cars from the dataset.\n",
    "Lotus = df[df['Make']=='Lotus']\n",
    "\n",
    "#Select only columns \"Engine HP\", \"Engine Cylinders\".\n",
    "cols = [\"Engine HP\", \"Engine Cylinders\"]\n",
    "Lotus = Lotus[cols]\n",
    "\n",
    "# Now drop all duplicated rows using drop_duplicates method (you should get a dataframe with 7 rows)\n",
    "Lotus.drop_duplicates(inplace = True)\n",
    "\n",
    "# Get the underlying NumPy array. Let's call it X.\n",
    "X = np.array(Lotus)\n",
    "\n",
    "# Compute matrix-matrix multiplication between the transpose of X and X. To get the transpose, use X.T. Let's call the result XTX\n",
    "XTX = np.dot(X.T , X)\n",
    "\n",
    "# Invert XTX.\n",
    "XTX_inv = np.linalg.inv(XTX)\n",
    "\n",
    "# Create an array y with values [1100, 800, 750, 850, 1300, 1000, 1000, 1300, 800]\n",
    "y = [1100, 800, 750, 850, 1300, 1000, 1000, 1300, 800]\n",
    "\n",
    "w = np.dot(np.dot(XTX_inv , X.T),y)\n",
    "print(w)"
   ]
  },
  {
   "cell_type": "code",
   "execution_count": null,
   "id": "hazardous-penetration",
   "metadata": {},
   "outputs": [],
   "source": []
  }
 ],
 "metadata": {
  "kernelspec": {
   "display_name": "Python 3",
   "language": "python",
   "name": "python3"
  },
  "language_info": {
   "codemirror_mode": {
    "name": "ipython",
    "version": 3
   },
   "file_extension": ".py",
   "mimetype": "text/x-python",
   "name": "python",
   "nbconvert_exporter": "python",
   "pygments_lexer": "ipython3",
   "version": "3.9.12"
  }
 },
 "nbformat": 4,
 "nbformat_minor": 5
}
