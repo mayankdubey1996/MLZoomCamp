{
 "cells": [
  {
   "cell_type": "code",
   "execution_count": 3,
   "id": "fbb5507f",
   "metadata": {},
   "outputs": [],
   "source": [
    "import pandas as pd\n",
    "import numpy as np\n",
    "import matplotlib.pyplot as plt\n",
    "import seaborn as sns\n",
    "from sklearn.utils import shuffle\n",
    "from sklearn.linear_model import LinearRegression\n",
    "from sklearn.metrics import mean_squared_error\n",
    "import warnings\n",
    "warnings.filterwarnings(\"ignore\")"
   ]
  },
  {
   "cell_type": "markdown",
   "id": "5b3945cc",
   "metadata": {},
   "source": [
    "#### EDA\n",
    "\n",
    "- Load the Data"
   ]
  },
  {
   "cell_type": "code",
   "execution_count": 4,
   "id": "40832637",
   "metadata": {},
   "outputs": [],
   "source": [
    "df = pd.read_csv(\"data/housing.csv\")"
   ]
  },
  {
   "cell_type": "code",
   "execution_count": 5,
   "id": "9bf4067e",
   "metadata": {},
   "outputs": [
    {
     "data": {
      "text/html": [
       "<div>\n",
       "<style scoped>\n",
       "    .dataframe tbody tr th:only-of-type {\n",
       "        vertical-align: middle;\n",
       "    }\n",
       "\n",
       "    .dataframe tbody tr th {\n",
       "        vertical-align: top;\n",
       "    }\n",
       "\n",
       "    .dataframe thead th {\n",
       "        text-align: right;\n",
       "    }\n",
       "</style>\n",
       "<table border=\"1\" class=\"dataframe\">\n",
       "  <thead>\n",
       "    <tr style=\"text-align: right;\">\n",
       "      <th></th>\n",
       "      <th>longitude</th>\n",
       "      <th>latitude</th>\n",
       "      <th>housing_median_age</th>\n",
       "      <th>total_rooms</th>\n",
       "      <th>total_bedrooms</th>\n",
       "      <th>population</th>\n",
       "      <th>households</th>\n",
       "      <th>median_income</th>\n",
       "      <th>median_house_value</th>\n",
       "      <th>ocean_proximity</th>\n",
       "    </tr>\n",
       "  </thead>\n",
       "  <tbody>\n",
       "    <tr>\n",
       "      <th>0</th>\n",
       "      <td>-122.23</td>\n",
       "      <td>37.88</td>\n",
       "      <td>41.0</td>\n",
       "      <td>880.0</td>\n",
       "      <td>129.0</td>\n",
       "      <td>322.0</td>\n",
       "      <td>126.0</td>\n",
       "      <td>8.3252</td>\n",
       "      <td>452600.0</td>\n",
       "      <td>NEAR BAY</td>\n",
       "    </tr>\n",
       "    <tr>\n",
       "      <th>1</th>\n",
       "      <td>-122.22</td>\n",
       "      <td>37.86</td>\n",
       "      <td>21.0</td>\n",
       "      <td>7099.0</td>\n",
       "      <td>1106.0</td>\n",
       "      <td>2401.0</td>\n",
       "      <td>1138.0</td>\n",
       "      <td>8.3014</td>\n",
       "      <td>358500.0</td>\n",
       "      <td>NEAR BAY</td>\n",
       "    </tr>\n",
       "    <tr>\n",
       "      <th>2</th>\n",
       "      <td>-122.24</td>\n",
       "      <td>37.85</td>\n",
       "      <td>52.0</td>\n",
       "      <td>1467.0</td>\n",
       "      <td>190.0</td>\n",
       "      <td>496.0</td>\n",
       "      <td>177.0</td>\n",
       "      <td>7.2574</td>\n",
       "      <td>352100.0</td>\n",
       "      <td>NEAR BAY</td>\n",
       "    </tr>\n",
       "    <tr>\n",
       "      <th>3</th>\n",
       "      <td>-122.25</td>\n",
       "      <td>37.85</td>\n",
       "      <td>52.0</td>\n",
       "      <td>1274.0</td>\n",
       "      <td>235.0</td>\n",
       "      <td>558.0</td>\n",
       "      <td>219.0</td>\n",
       "      <td>5.6431</td>\n",
       "      <td>341300.0</td>\n",
       "      <td>NEAR BAY</td>\n",
       "    </tr>\n",
       "    <tr>\n",
       "      <th>4</th>\n",
       "      <td>-122.25</td>\n",
       "      <td>37.85</td>\n",
       "      <td>52.0</td>\n",
       "      <td>1627.0</td>\n",
       "      <td>280.0</td>\n",
       "      <td>565.0</td>\n",
       "      <td>259.0</td>\n",
       "      <td>3.8462</td>\n",
       "      <td>342200.0</td>\n",
       "      <td>NEAR BAY</td>\n",
       "    </tr>\n",
       "  </tbody>\n",
       "</table>\n",
       "</div>"
      ],
      "text/plain": [
       "   longitude  latitude  housing_median_age  total_rooms  total_bedrooms  \\\n",
       "0    -122.23     37.88                41.0        880.0           129.0   \n",
       "1    -122.22     37.86                21.0       7099.0          1106.0   \n",
       "2    -122.24     37.85                52.0       1467.0           190.0   \n",
       "3    -122.25     37.85                52.0       1274.0           235.0   \n",
       "4    -122.25     37.85                52.0       1627.0           280.0   \n",
       "\n",
       "   population  households  median_income  median_house_value ocean_proximity  \n",
       "0       322.0       126.0         8.3252            452600.0        NEAR BAY  \n",
       "1      2401.0      1138.0         8.3014            358500.0        NEAR BAY  \n",
       "2       496.0       177.0         7.2574            352100.0        NEAR BAY  \n",
       "3       558.0       219.0         5.6431            341300.0        NEAR BAY  \n",
       "4       565.0       259.0         3.8462            342200.0        NEAR BAY  "
      ]
     },
     "execution_count": 5,
     "metadata": {},
     "output_type": "execute_result"
    }
   ],
   "source": [
    "df.head()"
   ]
  },
  {
   "cell_type": "markdown",
   "id": "1bb56dcc",
   "metadata": {},
   "source": [
    "- Plotting histogram of `median_house_value`"
   ]
  },
  {
   "cell_type": "code",
   "execution_count": 6,
   "id": "0f08822c",
   "metadata": {},
   "outputs": [
    {
     "data": {
      "text/plain": [
       "<AxesSubplot:xlabel='median_house_value', ylabel='Density'>"
      ]
     },
     "execution_count": 6,
     "metadata": {},
     "output_type": "execute_result"
    },
    {
     "data": {
      "image/png": "[encoded data removed]",
      "text/plain": [
       "<Figure size 432x288 with 1 Axes>"
      ]
     },
     "metadata": {
      "needs_background": "light"
     },
     "output_type": "display_data"
    }
   ],
   "source": [
    "sns.distplot(df['median_house_value'], hist = False)"
   ]
  },
  {
   "cell_type": "markdown",
   "id": "3b8a6ad2",
   "metadata": {},
   "source": [
    "- __The plot is right skewed or has long right tail, which means some houses are expensive and it shifts the mean of `median_house_value` towards right__"
   ]
  },
  {
   "cell_type": "markdown",
   "id": "1170edb4",
   "metadata": {},
   "source": [
    "### Selecting Features"
   ]
  },
  {
   "cell_type": "code",
   "execution_count": 7,
   "id": "41d9d10d",
   "metadata": {},
   "outputs": [],
   "source": [
    "cols = ['latitude', 'longitude', 'housing_median_age','total_rooms','total_bedrooms',\n",
    "        'population', 'households', 'median_income','median_house_value']"
   ]
  },
  {
   "cell_type": "code",
   "execution_count": 8,
   "id": "769dcf76",
   "metadata": {},
   "outputs": [],
   "source": [
    "df = df[cols]"
   ]
  },
  {
   "cell_type": "markdown",
   "id": "9629887c",
   "metadata": {},
   "source": [
    "### Question 1\n",
    "\n",
    "__Find a feature with missing values. How many missing values does it have?__\n"
   ]
  },
  {
   "cell_type": "code",
   "execution_count": 9,
   "id": "bc785487",
   "metadata": {},
   "outputs": [
    {
     "data": {
      "text/plain": [
       "latitude                0\n",
       "longitude               0\n",
       "housing_median_age      0\n",
       "total_rooms             0\n",
       "total_bedrooms        207\n",
       "population              0\n",
       "households              0\n",
       "median_income           0\n",
       "median_house_value      0\n",
       "dtype: int64"
      ]
     },
     "execution_count": 9,
     "metadata": {},
     "output_type": "execute_result"
    }
   ],
   "source": [
    "df.isna().sum()"
   ]
  },
  {
   "cell_type": "markdown",
   "id": "c2651574",
   "metadata": {},
   "source": [
    "### Question 2\n",
    "\n",
    "__What's the median (50% percentile) for variable 'population'?__"
   ]
  },
  {
   "cell_type": "code",
   "execution_count": 10,
   "id": "c4d2ce82",
   "metadata": {},
   "outputs": [
    {
     "data": {
      "text/plain": [
       "1166.0"
      ]
     },
     "execution_count": 10,
     "metadata": {},
     "output_type": "execute_result"
    }
   ],
   "source": [
    "df['population'].median()"
   ]
  },
  {
   "cell_type": "markdown",
   "id": "419726fe",
   "metadata": {},
   "source": [
    "#### Split the data\n",
    "\n",
    "- Shuffle the initial dataset, use seed 42.\n",
    "- Split your data in train/val/test sets, with 60%/20%/20% distribution.\n",
    "- Make sure that the target value ('median_house_value') is not in your dataframe.\n",
    "- Apply the log transformation to the median_house_value variable using the np.log1p() function."
   ]
  },
  {
   "cell_type": "code",
   "execution_count": 11,
   "id": "eca5517c",
   "metadata": {},
   "outputs": [],
   "source": [
    "n = len(df)\n",
    "\n",
    "n_val = int(n * 0.2)\n",
    "n_test = int(n * 0.2)\n",
    "n_train = n - n_val - n_test\n",
    "\n",
    "idx = np.arange(n)\n",
    "\n",
    "np.random.seed(42)\n",
    "np.random.shuffle(idx)\n",
    "\n",
    "df_train = df.iloc[idx[:n_train]]\n",
    "df_val = df.iloc[idx[n_train:n_train+n_val]]\n",
    "df_test = df.iloc[idx[n_train+n_val:]]\n",
    "\n",
    "X_col = ['latitude', 'longitude', 'housing_median_age','total_rooms','total_bedrooms',\n",
    "        'population', 'households', 'median_income']\n",
    "y_col = ['median_house_value']\n",
    "\n",
    "X_train = df_train[X_col]\n",
    "y_train = np.log1p(df_train[y_col])\n",
    "\n",
    "X_val = df_val[X_col]\n",
    "y_val = np.log1p(df_val[y_col])\n",
    "\n",
    "X_test = df_test[X_col]\n",
    "y_test = np.log1p(df_test[y_col])"
   ]
  },
  {
   "cell_type": "markdown",
   "id": "578bbeaf",
   "metadata": {},
   "source": [
    "### Question 3\n",
    "\n",
    "- We need to deal with missing values for the column from Q1.\n",
    "- We have two options: fill it with 0 or with the mean of this variable.\n",
    "- Try both options. For each, train a linear regression model without regularization using the code from the lessons.\n",
    "- For computing the mean, use the training only!\n",
    "- Use the validation dataset to evaluate the models and compare the RMSE of each option.\n",
    "- Round the RMSE scores to 2 decimal digits using round(score, 2)\n",
    "- Which option gives better RMSE?"
   ]
  },
  {
   "cell_type": "markdown",
   "id": "4b881888",
   "metadata": {},
   "source": [
    "- __`total_bedrooms`__ column has a missing value."
   ]
  },
  {
   "cell_type": "markdown",
   "id": "0c7af432",
   "metadata": {},
   "source": [
    "- __first option__ Replace `nan's` in column `total_bedrooms` with 0"
   ]
  },
  {
   "cell_type": "code",
   "execution_count": 12,
   "id": "edfa920f",
   "metadata": {},
   "outputs": [],
   "source": [
    "X_train_filled_zero = X_train.copy()\n",
    "X_val_filled_zero = X_val.copy()\n",
    "X_test_filled_zero = X_test.copy()\n",
    "\n",
    "X_train_filled_mean = X_train.copy()\n",
    "X_val_filled_mean = X_val.copy()\n",
    "X_test_filled_mean = X_test.copy()"
   ]
  },
  {
   "cell_type": "code",
   "execution_count": 13,
   "id": "80510d69",
   "metadata": {},
   "outputs": [],
   "source": [
    "X_train_filled_zero['total_bedrooms'] = X_train_filled_zero['total_bedrooms'].fillna(0)\n",
    "X_val_filled_zero['total_bedrooms'] = X_val_filled_zero['total_bedrooms'].fillna(0)\n",
    "X_test_filled_zero['total_bedrooms'] = X_test_filled_zero['total_bedrooms'].fillna(0)\n",
    "\n",
    "mean = round(X_train['total_bedrooms'].mean(),2)\n",
    "X_train_filled_mean['total_bedrooms'] = X_train_filled_mean['total_bedrooms'].fillna(mean)\n",
    "X_val_filled_mean['total_bedrooms'] = X_val_filled_mean['total_bedrooms'].fillna(mean)\n",
    "X_test_filled_mean['total_bedrooms'] = X_test_filled_mean['total_bedrooms'].fillna(mean)"
   ]
  },
  {
   "cell_type": "code",
   "execution_count": 14,
   "id": "40d0d1b2",
   "metadata": {},
   "outputs": [],
   "source": [
    "def train_linear_regression(X, y):\n",
    "    ones = np.ones(X.shape[0])\n",
    "    X = np.column_stack([ones, X])\n",
    "\n",
    "    XTX = X.T.dot(X)\n",
    "    XTX_inv = np.linalg.inv(XTX)\n",
    "    w = XTX_inv.dot(X.T).dot(y)\n",
    "    \n",
    "    return w[0], w[1:]"
   ]
  },
  {
   "cell_type": "code",
   "execution_count": 15,
   "id": "828567f2",
   "metadata": {},
   "outputs": [],
   "source": [
    "def rmse(y, y_pred):\n",
    "    error = y_val['median_house_value']-y_val_pred[0]\n",
    "    mse = (error ** 2).mean()\n",
    "    return np.sqrt(mse)"
   ]
  },
  {
   "cell_type": "code",
   "execution_count": 16,
   "id": "13451ea3",
   "metadata": {},
   "outputs": [],
   "source": [
    "w_0, w = train_linear_regression(X_train_filled_zero,y_train)\n",
    "y_val_pred = w_0 + X_val_filled_zero.dot(w)\n",
    "\n",
    "rmse_0 = round(rmse(y_val, y_val_pred),2)"
   ]
  },
  {
   "cell_type": "code",
   "execution_count": 17,
   "id": "1c723337",
   "metadata": {},
   "outputs": [],
   "source": [
    "w_0, w = train_linear_regression(X_train_filled_mean,y_train)\n",
    "y_val_pred = w_0 + X_val_filled_mean.dot(w)\n",
    "\n",
    "rmse_mu = round(rmse(y_val, y_val_pred),2)"
   ]
  },
  {
   "cell_type": "code",
   "execution_count": 18,
   "id": "7790bce4",
   "metadata": {},
   "outputs": [
    {
     "name": "stdout",
     "output_type": "stream",
     "text": [
      "Both rmse are equal\n",
      "0.33\n",
      "0.33\n"
     ]
    }
   ],
   "source": [
    "if rmse_0>rmse_mu:\n",
    "    print(\"Filling missing value with mean is better\")\n",
    "elif rmse_0<rmse_mu:\n",
    "    print(\"Filling missing value with 0 is better\")\n",
    "else:\n",
    "    print(\"Both rmse are equal\")\n",
    "print(rmse_0)\n",
    "print(rmse_mu)"
   ]
  },
  {
   "cell_type": "markdown",
   "id": "29f0495e",
   "metadata": {},
   "source": [
    "### Question 4\n",
    "- Now let's train a regularized linear regression.\n",
    "- For this question, fill the NAs with 0.\n",
    "- Try different values of r from this list: [0, 0.000001, 0.0001, 0.001, 0.01, 0.1, 1, 5, 10].\n",
    "- Use RMSE to evaluate the model on the validation dataset.\n",
    "- Round the RMSE scores to 2 decimal digits.\n",
    "- Which r gives the best RMSE?"
   ]
  },
  {
   "cell_type": "code",
   "execution_count": 19,
   "id": "ee44e23a",
   "metadata": {},
   "outputs": [],
   "source": [
    "def train_linear_regression_reg(X, y, r=0.001):\n",
    "    ones = np.ones(X.shape[0])\n",
    "    X = np.column_stack([ones, X])\n",
    "\n",
    "    XTX = X.T.dot(X)\n",
    "    XTX = XTX + r * np.eye(XTX.shape[0])\n",
    "\n",
    "    XTX_inv = np.linalg.inv(XTX)\n",
    "    w_full = XTX_inv.dot(X.T).dot(y)\n",
    "    \n",
    "    return w_full[0], w_full[1:]"
   ]
  },
  {
   "cell_type": "code",
   "execution_count": 20,
   "id": "b65c92dd",
   "metadata": {},
   "outputs": [
    {
     "name": "stdout",
     "output_type": "stream",
     "text": [
      "RMSE of r = 0 is =  0.34\n",
      "RMSE of r = 1e-06 is =  0.34\n",
      "RMSE of r = 0.0001 is =  0.34\n",
      "RMSE of r = 0.001 is =  0.34\n",
      "RMSE of r = 0.01 is =  0.4\n",
      "RMSE of r = 0.1 is =  1.52\n",
      "RMSE of r = 1 is =  6.84\n",
      "RMSE of r = 5 is =  10.28\n",
      "RMSE of r = 10 is =  10.97\n"
     ]
    }
   ],
   "source": [
    "r = [0, 0.000001, 0.0001, 0.001, 0.01, 0.1, 1, 5, 10]\n",
    "for i in range(len(r)):\n",
    "    w0, w = train_linear_regression_reg(X_train_filled_zero, y_train, r=r[i])\n",
    "    y_val_pred = w_0 + X_val_filled_zero.dot(w)\n",
    "    rmse_val = round(rmse(y_val, y_val_pred),2)\n",
    "    print(\"RMSE of r =\", r[i], \"is = \", rmse_val)"
   ]
  },
  {
   "cell_type": "markdown",
   "id": "7f8b6038",
   "metadata": {},
   "source": [
    "### Question 5\n",
    "\n",
    "- We used seed 42 for splitting the data. Let's find out how selecting the seed influences our score.\n",
    "- Try different seed values: [0, 1, 2, 3, 4, 5, 6, 7, 8, 9].\n",
    "- For each seed, do the train/validation/test split with 60%/20%/20% distribution.\n",
    "- Fill the missing values with 0 and train a model without regularization.\n",
    "- For each seed, evaluate the model on the validation dataset and collect the RMSE scores.\n",
    "- What's the standard deviation of all the scores? To compute the standard deviation, use np.std.\n",
    "- Round the result to 3 decimal digits (round(std, 3))\n",
    "\n",
    "\n",
    "    Note: Standard deviation shows how different the values are. If it's low, then all values are approximately the same. If it's high, the values are different. If standard deviation of scores is low, then our model is stable."
   ]
  },
  {
   "cell_type": "code",
   "execution_count": 21,
   "id": "c4d3c0a4",
   "metadata": {},
   "outputs": [],
   "source": [
    "def split_data(df, seeding):\n",
    "    n = len(df)\n",
    "    \n",
    "    df['total_bedrooms'] = df['total_bedrooms'].fillna(0)\n",
    "    \n",
    "    n_val = int(n * 0.2)\n",
    "    n_test = int(n * 0.2)\n",
    "    n_train = n - n_val - n_test\n",
    "\n",
    "    idx = np.arange(n)\n",
    "\n",
    "    np.random.seed(seeding)\n",
    "    np.random.shuffle(idx)\n",
    "\n",
    "    df_train = df.iloc[idx[:n_train]]\n",
    "    df_val = df.iloc[idx[n_train:n_train+n_val]]\n",
    "    df_test = df.iloc[idx[n_train+n_val:]]\n",
    "\n",
    "    X_col = ['latitude', 'longitude', 'housing_median_age','total_rooms','total_bedrooms',\n",
    "        'population', 'households', 'median_income']\n",
    "    y_col = ['median_house_value']\n",
    "\n",
    "    X_train = df_train[X_col]\n",
    "    y_train = np.log1p(df_train[y_col])\n",
    "\n",
    "    X_val = df_val[X_col]\n",
    "    y_val = np.log1p(df_val[y_col])\n",
    "\n",
    "    X_test = df_test[X_col]\n",
    "    y_test = np.log1p(df_test[y_col])\n",
    "    \n",
    "    w_0, w = train_linear_regression(X_train,y_train)\n",
    "    y_val_pred = w_0 + X_val.dot(w)\n",
    "    \n",
    "    error = (y_val['median_house_value']-y_val_pred[0]).values\n",
    "    RMSE = ((error**2).mean())**1/2\n",
    "    return RMSE"
   ]
  },
  {
   "cell_type": "code",
   "execution_count": 22,
   "id": "8bf4a9dd",
   "metadata": {},
   "outputs": [
    {
     "name": "stdout",
     "output_type": "stream",
     "text": [
      "0.001\n"
     ]
    }
   ],
   "source": [
    "rmses = []\n",
    "seeding =  [0, 1, 2, 3, 4, 5, 6, 7, 8, 9]\n",
    "\n",
    "for s in seeding:\n",
    "    r = split_data(df, s)\n",
    "    rmses.append(r)\n",
    "print(round(np.std(rmses),3))"
   ]
  },
  {
   "cell_type": "markdown",
   "id": "0380d6ad",
   "metadata": {},
   "source": [
    "## Question 6\n",
    "- Split the dataset like previously, use seed 9.\n",
    "- Combine train and validation datasets.\n",
    "- Fill the missing values with 0 and train a model with r=0.001.\n",
    "- What's the RMSE on the test dataset?"
   ]
  },
  {
   "cell_type": "code",
   "execution_count": 49,
   "id": "54ff7221",
   "metadata": {},
   "outputs": [],
   "source": [
    "def get_result(df):\n",
    "    n = len(df)\n",
    "    \n",
    "    df['total_bedrooms'] = df['total_bedrooms'].fillna(0)\n",
    "    \n",
    "    n_val = int(n * 0.2)\n",
    "    n_test = int(n * 0.2)\n",
    "    n_train = n - n_val - n_test\n",
    "\n",
    "    idx = np.arange(n)\n",
    "\n",
    "    np.random.seed(seeding)\n",
    "    np.random.shuffle(idx)\n",
    "\n",
    "    df_train = df.iloc[idx[:n_train]]\n",
    "    df_val = df.iloc[idx[n_train:n_train+n_val]]\n",
    "    df_test = df.iloc[idx[n_train+n_val:]]\n",
    "    \n",
    "    df_train = df_train.append(df_val)\n",
    "\n",
    "    X_col = ['latitude', 'longitude', 'housing_median_age','total_rooms','total_bedrooms',\n",
    "        'population', 'households', 'median_income']\n",
    "    y_col = ['median_house_value']\n",
    "\n",
    "    X_train = df_train[X_col]\n",
    "    y_train = np.log1p(df_train[y_col])\n",
    "\n",
    "    X_test = df_test[X_col]\n",
    "    y_test = np.log1p(df_test[y_col])\n",
    "    \n",
    "    w_0, w = train_linear_regression_reg(X_train,y_train,r=0.001)\n",
    "    y_test_pred = w_0 + X_test.dot(w)\n",
    "    \n",
    "    error = (y_test['median_house_value']-y_test_pred[0]).values\n",
    "    RMSE = ((error**2).mean())**1/2\n",
    "    return round(RMSE,3)"
   ]
  },
  {
   "cell_type": "code",
   "execution_count": 50,
   "id": "c1063ed5",
   "metadata": {},
   "outputs": [
    {
     "name": "stdout",
     "output_type": "stream",
     "text": [
      "0.056\n"
     ]
    }
   ],
   "source": [
    "RMSE = get_result(df)\n",
    "print(RMSE)"
   ]
  }
 ],
 "metadata": {
  "kernelspec": {
   "display_name": "Python 3",
   "language": "python",
   "name": "python3"
  },
  "language_info": {
   "codemirror_mode": {
    "name": "ipython",
    "version": 3
   },
   "file_extension": ".py",
   "mimetype": "text/x-python",
   "name": "python",
   "nbconvert_exporter": "python",
   "pygments_lexer": "ipython3",
   "version": "3.9.12"
  }
 },
 "nbformat": 4,
 "nbformat_minor": 5
}
