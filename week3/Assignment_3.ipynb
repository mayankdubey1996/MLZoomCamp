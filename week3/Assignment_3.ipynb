{
 "cells": [
  {
   "cell_type": "code",
   "execution_count": 1,
   "id": "c6198dbf",
   "metadata": {},
   "outputs": [
    {
     "name": "stderr",
     "output_type": "stream",
     "text": [
      "C:\\ProgramData\\Anaconda3\\lib\\site-packages\\scipy\\__init__.py:146: UserWarning: A NumPy version >=1.16.5 and <1.23.0 is required for this version of SciPy (detected version 1.23.2\n",
      "  warnings.warn(f\"A NumPy version >={np_minversion} and <{np_maxversion}\"\n"
     ]
    }
   ],
   "source": [
    "import pandas as pd\n",
    "import numpy as np\n",
    "import matplotlib.pyplot as plt\n",
    "import seaborn as sns\n",
    "from math import log2\n",
    "from sklearn.model_selection import train_test_split\n",
    "from sklearn.preprocessing import OneHotEncoder\n",
    "from sklearn.linear_model import LogisticRegression\n",
    "from sklearn.linear_model import Ridge\n",
    "from sklearn.metrics import accuracy_score\n",
    "from sklearn.metrics import mean_squared_error\n",
    "from sklearn.metrics import mutual_info_score\n",
    "import warnings\n",
    "warnings.filterwarnings(\"ignore\")"
   ]
  },
  {
   "cell_type": "code",
   "execution_count": 2,
   "id": "8d6701bb",
   "metadata": {},
   "outputs": [],
   "source": [
    "df = pd.read_csv(\"data/housing.csv\")"
   ]
  },
  {
   "cell_type": "code",
   "execution_count": 3,
   "id": "06adf969",
   "metadata": {},
   "outputs": [
    {
     "data": {
      "text/html": [
       "<div>\n",
       "<style scoped>\n",
       "    .dataframe tbody tr th:only-of-type {\n",
       "        vertical-align: middle;\n",
       "    }\n",
       "\n",
       "    .dataframe tbody tr th {\n",
       "        vertical-align: top;\n",
       "    }\n",
       "\n",
       "    .dataframe thead th {\n",
       "        text-align: right;\n",
       "    }\n",
       "</style>\n",
       "<table border=\"1\" class=\"dataframe\">\n",
       "  <thead>\n",
       "    <tr style=\"text-align: right;\">\n",
       "      <th></th>\n",
       "      <th>longitude</th>\n",
       "      <th>latitude</th>\n",
       "      <th>housing_median_age</th>\n",
       "      <th>total_rooms</th>\n",
       "      <th>total_bedrooms</th>\n",
       "      <th>population</th>\n",
       "      <th>households</th>\n",
       "      <th>median_income</th>\n",
       "      <th>median_house_value</th>\n",
       "      <th>ocean_proximity</th>\n",
       "    </tr>\n",
       "  </thead>\n",
       "  <tbody>\n",
       "    <tr>\n",
       "      <th>0</th>\n",
       "      <td>-122.23</td>\n",
       "      <td>37.88</td>\n",
       "      <td>41.0</td>\n",
       "      <td>880.0</td>\n",
       "      <td>129.0</td>\n",
       "      <td>322.0</td>\n",
       "      <td>126.0</td>\n",
       "      <td>8.3252</td>\n",
       "      <td>452600.0</td>\n",
       "      <td>NEAR BAY</td>\n",
       "    </tr>\n",
       "    <tr>\n",
       "      <th>1</th>\n",
       "      <td>-122.22</td>\n",
       "      <td>37.86</td>\n",
       "      <td>21.0</td>\n",
       "      <td>7099.0</td>\n",
       "      <td>1106.0</td>\n",
       "      <td>2401.0</td>\n",
       "      <td>1138.0</td>\n",
       "      <td>8.3014</td>\n",
       "      <td>358500.0</td>\n",
       "      <td>NEAR BAY</td>\n",
       "    </tr>\n",
       "    <tr>\n",
       "      <th>2</th>\n",
       "      <td>-122.24</td>\n",
       "      <td>37.85</td>\n",
       "      <td>52.0</td>\n",
       "      <td>1467.0</td>\n",
       "      <td>190.0</td>\n",
       "      <td>496.0</td>\n",
       "      <td>177.0</td>\n",
       "      <td>7.2574</td>\n",
       "      <td>352100.0</td>\n",
       "      <td>NEAR BAY</td>\n",
       "    </tr>\n",
       "    <tr>\n",
       "      <th>3</th>\n",
       "      <td>-122.25</td>\n",
       "      <td>37.85</td>\n",
       "      <td>52.0</td>\n",
       "      <td>1274.0</td>\n",
       "      <td>235.0</td>\n",
       "      <td>558.0</td>\n",
       "      <td>219.0</td>\n",
       "      <td>5.6431</td>\n",
       "      <td>341300.0</td>\n",
       "      <td>NEAR BAY</td>\n",
       "    </tr>\n",
       "    <tr>\n",
       "      <th>4</th>\n",
       "      <td>-122.25</td>\n",
       "      <td>37.85</td>\n",
       "      <td>52.0</td>\n",
       "      <td>1627.0</td>\n",
       "      <td>280.0</td>\n",
       "      <td>565.0</td>\n",
       "      <td>259.0</td>\n",
       "      <td>3.8462</td>\n",
       "      <td>342200.0</td>\n",
       "      <td>NEAR BAY</td>\n",
       "    </tr>\n",
       "  </tbody>\n",
       "</table>\n",
       "</div>"
      ],
      "text/plain": [
       "   longitude  latitude  housing_median_age  total_rooms  total_bedrooms  \\\n",
       "0    -122.23     37.88                41.0        880.0           129.0   \n",
       "1    -122.22     37.86                21.0       7099.0          1106.0   \n",
       "2    -122.24     37.85                52.0       1467.0           190.0   \n",
       "3    -122.25     37.85                52.0       1274.0           235.0   \n",
       "4    -122.25     37.85                52.0       1627.0           280.0   \n",
       "\n",
       "   population  households  median_income  median_house_value ocean_proximity  \n",
       "0       322.0       126.0         8.3252            452600.0        NEAR BAY  \n",
       "1      2401.0      1138.0         8.3014            358500.0        NEAR BAY  \n",
       "2       496.0       177.0         7.2574            352100.0        NEAR BAY  \n",
       "3       558.0       219.0         5.6431            341300.0        NEAR BAY  \n",
       "4       565.0       259.0         3.8462            342200.0        NEAR BAY  "
      ]
     },
     "execution_count": 3,
     "metadata": {},
     "output_type": "execute_result"
    }
   ],
   "source": [
    "df.head()"
   ]
  },
  {
   "cell_type": "code",
   "execution_count": 4,
   "id": "3accdabb",
   "metadata": {},
   "outputs": [],
   "source": [
    "#reading csv\n",
    "cols = [\"latitude\",\"longitude\",\"housing_median_age\",\"total_rooms\",\"total_bedrooms\",\"population\",\n",
    "       \"households\",\"median_income\",\"median_house_value\",\"ocean_proximity\"]\n",
    "df = df[cols]"
   ]
  },
  {
   "cell_type": "markdown",
   "id": "2d73933e",
   "metadata": {},
   "source": [
    "# Data Preparation\n",
    "- Select only the features from above and fill in the missing values with 0.\n",
    "- Create a new column `rooms_per_household` by dividing the column `total_rooms` by the column households from dataframe.\n",
    "- Create a new column `bedrooms_per_room` by dividing the column `total_bedrooms` by the column total_rooms from dataframe.\n",
    "- Create a new column `population_per_household` by dividing the column population by the column households from dataframe."
   ]
  },
  {
   "cell_type": "code",
   "execution_count": 5,
   "id": "9cfbd9db",
   "metadata": {},
   "outputs": [
    {
     "data": {
      "text/plain": [
       "latitude                0\n",
       "longitude               0\n",
       "housing_median_age      0\n",
       "total_rooms             0\n",
       "total_bedrooms        207\n",
       "population              0\n",
       "households              0\n",
       "median_income           0\n",
       "median_house_value      0\n",
       "ocean_proximity         0\n",
       "dtype: int64"
      ]
     },
     "execution_count": 5,
     "metadata": {},
     "output_type": "execute_result"
    }
   ],
   "source": [
    "df.isnull().sum()\n",
    "#only total_bedrooms has 207 nulls."
   ]
  },
  {
   "cell_type": "code",
   "execution_count": 6,
   "id": "124b80a3",
   "metadata": {},
   "outputs": [],
   "source": [
    "# Select only the features from above and fill in the missing values with 0.\n",
    "df[\"total_bedrooms\"] = df[\"total_bedrooms\"].fillna(0)\n",
    "\n",
    "# Create a new column rooms_per_household by dividing the column total_rooms by the column households from dataframe.\n",
    "df[\"rooms_per_household\"] = df[\"total_rooms\"]/df[\"households\"]\n",
    "\n",
    "# Create a new column bedrooms_per_room by dividing the column total_bedrooms by the column total_rooms from dataframe.\n",
    "df[\"bedrooms_per_room\"] = df[\"total_bedrooms\"]/df[\"total_rooms\"]\n",
    "\n",
    "# Create a new column population_per_household by dividing the column population by the column households from dataframe.\n",
    "df[\"population_per_household\"] = df[\"population\"]/df[\"households\"]"
   ]
  },
  {
   "cell_type": "markdown",
   "id": "b28eccb3",
   "metadata": {},
   "source": [
    "### Question 1\n",
    "\n",
    "__What is the most frequent observation (mode) for the column ocean_proximity?__\n",
    "\n",
    "Options:\n",
    "\n",
    "- `NEAR BAY`\n",
    "- `<1H OCEAN`\n",
    "- `INLAND`\n",
    "- `NEAR OCEAN`"
   ]
  },
  {
   "cell_type": "code",
   "execution_count": 7,
   "id": "470865f8",
   "metadata": {},
   "outputs": [
    {
     "data": {
      "text/plain": [
       "0    <1H OCEAN\n",
       "Name: ocean_proximity, dtype: object"
      ]
     },
     "execution_count": 7,
     "metadata": {},
     "output_type": "execute_result"
    }
   ],
   "source": [
    "df[\"ocean_proximity\"].mode()"
   ]
  },
  {
   "cell_type": "markdown",
   "id": "f3d91abc",
   "metadata": {},
   "source": [
    "__answer: `<1H OCEAN`__"
   ]
  },
  {
   "cell_type": "markdown",
   "id": "f5f830fb",
   "metadata": {},
   "source": [
    "### Split the data\n",
    "- Split your data in train/val/test sets, with 60%/20%/20% distribution.\n",
    "- Use Scikit-Learn for that (the `train_test_split` function) and set the seed to 42.\n",
    "- Make sure that the target value (`median_house_value`) is not in your dataframe."
   ]
  },
  {
   "cell_type": "code",
   "execution_count": 8,
   "id": "2f3b3254",
   "metadata": {},
   "outputs": [],
   "source": [
    "df_train, df_test = train_test_split(df, test_size=0.2, random_state=42)\n",
    "df_train, df_val = train_test_split(df_train, test_size=0.25, random_state=42)"
   ]
  },
  {
   "cell_type": "code",
   "execution_count": 9,
   "id": "11da8194",
   "metadata": {},
   "outputs": [],
   "source": [
    "X_cols  = [\"latitude\",\"longitude\",\"housing_median_age\",\"total_rooms\",\"total_bedrooms\",\"population\",\n",
    "           \"households\",\"median_income\",\"ocean_proximity\"]\n",
    "y_col   = \"median_house_value\"\n",
    "\n",
    "X_train = df_train[X_cols]\n",
    "X_val   = df_val[X_cols]\n",
    "X_test  = df_test[X_cols]\n",
    "\n",
    "y_train = df_train[y_col] \n",
    "y_val   = df_val[y_col]\n",
    "y_test  = df_test[y_col]\n"
   ]
  },
  {
   "cell_type": "markdown",
   "id": "fd93d806",
   "metadata": {},
   "source": [
    "### Question 2\n",
    "- Create the correlation matrix for the numerical features of your train dataset.\n",
    "         In a correlation matrix, you compute the correlation coefficient between every pair of features in the dataset.\n",
    "- What are the two features that have the biggest correlation in this dataset?\n",
    "\n",
    "Options:\n",
    "\n",
    "- `total_bedrooms` and `households`\n",
    "- `total_bedrooms` and `total_rooms`\n",
    "- `population` and `households`\n",
    "- `population_per_household` and `total_rooms`"
   ]
  },
  {
   "cell_type": "code",
   "execution_count": 10,
   "id": "6b9a7223",
   "metadata": {},
   "outputs": [
    {
     "data": {
      "text/plain": [
       "<AxesSubplot:>"
      ]
     },
     "execution_count": 10,
     "metadata": {},
     "output_type": "execute_result"
    },
    {
     "data": {
      "image/png": "[encoded data removed]",
      "text/plain": [
       "<Figure size 504x504 with 2 Axes>"
      ]
     },
     "metadata": {
      "needs_background": "light"
     },
     "output_type": "display_data"
    }
   ],
   "source": [
    "f,ax = plt.subplots(figsize=(7, 7))\n",
    "sns.heatmap(X_train.corr(), annot = True, fmt= '.2f', cmap=\"YlGnBu\")"
   ]
  },
  {
   "cell_type": "markdown",
   "id": "6be74875",
   "metadata": {},
   "source": [
    "__answer: `total_bedrooms` and `households`__"
   ]
  },
  {
   "cell_type": "markdown",
   "id": "1b0d9756",
   "metadata": {},
   "source": [
    "## Make median_house_value binary\n",
    "- We need to turn the `median_house_value` variable from numeric into binary.\n",
    "- Let's create a variable `above_average` which is 1 if the `median_house_value` is above its mean value and 0 otherwise."
   ]
  },
  {
   "cell_type": "code",
   "execution_count": 11,
   "id": "aeaddd42",
   "metadata": {},
   "outputs": [],
   "source": [
    "mu = y_train.mean()\n",
    "above_average = np.where(y_train>mu,0,1)"
   ]
  },
  {
   "cell_type": "markdown",
   "id": "307bd531",
   "metadata": {},
   "source": [
    "### Question 3\n",
    "- Calculate the mutual information score with the (binarized) price for the categorical variable that we have. Use the training set only.\n",
    "- What is the value of mutual information?\n",
    "- Round it to 2 decimal digits using round(score, 2)\n",
    "\n",
    "__Options:__\n",
    "\n",
    "- __`0.263`__\n",
    "- __`0.00001`__\n",
    "- __`0.101`__\n",
    "- __`0.15555`__"
   ]
  },
  {
   "cell_type": "code",
   "execution_count": 12,
   "id": "13599bd3",
   "metadata": {},
   "outputs": [],
   "source": [
    "cat = ['ocean_proximity']"
   ]
  },
  {
   "cell_type": "code",
   "execution_count": 13,
   "id": "5238374b",
   "metadata": {},
   "outputs": [
    {
     "data": {
      "text/plain": [
       "ocean_proximity    0.101\n",
       "dtype: float64"
      ]
     },
     "execution_count": 13,
     "metadata": {},
     "output_type": "execute_result"
    }
   ],
   "source": [
    "def calculate_mi(series):\n",
    "    return mutual_info_score(series, above_average)\n",
    "\n",
    "df_mi = df_train[cat].apply(calculate_mi)\n",
    "round(df_mi,3)"
   ]
  },
  {
   "cell_type": "markdown",
   "id": "41d822d9",
   "metadata": {},
   "source": [
    "__answer__: __`0.101`__"
   ]
  },
  {
   "cell_type": "markdown",
   "id": "fc576b8b",
   "metadata": {},
   "source": [
    "### Question 4\n",
    "- Now let's train a logistic regression\n",
    "- Remember that we have one categorical variable `ocean_proximity` in the data. Include it using one-hot encoding.\n",
    "- Fit the model on the training dataset.\n",
    "        To make sure the results are reproducible across different versions of Scikit-Learn, fit the model with these parameters:\n",
    "        \n",
    "        model = LogisticRegression(solver=\"liblinear\", C=1.0, max_iter=1000, random_state=42)\n",
    "- Calculate the accuracy on the validation dataset and round it to 2 decimal digits.\n",
    "\n",
    "__Options:__\n",
    "    \n",
    "- __`0.60`__\n",
    "- __`0.72`__\n",
    "- __`0.84`__\n",
    "- __`0.95`__"
   ]
  },
  {
   "cell_type": "code",
   "execution_count": 14,
   "id": "fe2ceaaa",
   "metadata": {},
   "outputs": [],
   "source": [
    "#ONE HOT ENCODING \n",
    "X_train = pd.get_dummies(X_train)\n",
    "X_val  = pd.get_dummies(X_val)\n",
    "X_test = pd.get_dummies(X_test)\n",
    "\n",
    "# fit and transform y variable train, val and test\n",
    "\n",
    "#fit\n",
    "mu = y_train.mean()\n",
    "\n",
    "#transform\n",
    "oh_y_train = np.where(y_train>mu,0,1)\n",
    "\n",
    "oh_y_val   = np.where(y_val>mu,0,1)\n",
    "\n",
    "oh_y_test  = np.where(y_test>mu,0,1)"
   ]
  },
  {
   "cell_type": "code",
   "execution_count": 15,
   "id": "9dc1f4be",
   "metadata": {},
   "outputs": [
    {
     "name": "stdout",
     "output_type": "stream",
     "text": [
      "Accuracy:  0.84\n"
     ]
    }
   ],
   "source": [
    "model = LogisticRegression(solver=\"liblinear\", C=1.0, max_iter=1000, random_state=42)\n",
    "model.fit(X_train,oh_y_train)\n",
    "y_pred_val = model.predict(X_val)\n",
    "accuracy = round(accuracy_score(oh_y_val, y_pred_val),2)\n",
    "print(\"Accuracy: \", accuracy)"
   ]
  },
  {
   "cell_type": "markdown",
   "id": "a217c5ec",
   "metadata": {},
   "source": [
    "__answer:__ __`Accuracy = 0.84`__"
   ]
  },
  {
   "cell_type": "markdown",
   "id": "a52fdaff",
   "metadata": {},
   "source": [
    "## Question 5\n",
    "- Let's find the least useful feature using the feature elimination technique.\n",
    "\n",
    "\n",
    "- Train a model with all these features (using the same parameters as in Q4).\n",
    "\n",
    "\n",
    "- Now exclude each feature from this set and train a model without it. Record the accuracy for each model.\n",
    "\n",
    "\n",
    "- For each feature, calculate the difference between the original accuracy and the accuracy without the feature.\n",
    "\n",
    "\n",
    "- Which of following feature has the smallest difference?\n",
    "    - `total_rooms`\n",
    "    - `total_bedrooms`\n",
    "    - `population`\n",
    "    - `households`\n",
    "    \n",
    "__note:__ the difference doesn't have to be positive"
   ]
  },
  {
   "cell_type": "code",
   "execution_count": 16,
   "id": "9ab1ab2e",
   "metadata": {},
   "outputs": [],
   "source": [
    "def get_data(X_train, X_val, drop_col):\n",
    "    XX_train = X_train.copy()\n",
    "    XX_val   = X_val.copy()\n",
    "    \n",
    "    XX_train = XX_train.drop(drop_col,axis=1)\n",
    "    XX_val   = XX_val.drop(drop_col,axis=1)\n",
    "    return XX_train, XX_val"
   ]
  },
  {
   "cell_type": "code",
   "execution_count": 17,
   "id": "52e9549d",
   "metadata": {},
   "outputs": [
    {
     "name": "stdout",
     "output_type": "stream",
     "text": [
      "Accuracy when  total_rooms is dropped: 0.836\n",
      "Accuracy when  total_bedrooms is dropped: 0.837\n",
      "Accuracy when  population is dropped: 0.82\n",
      "Accuracy when  households is dropped: 0.831\n"
     ]
    }
   ],
   "source": [
    "columns = [\"total_rooms\",\"total_bedrooms\",\"population\",\"households\"]\n",
    "for col in columns:\n",
    "    XX_train, XX_val = get_data(X_train,X_val,col)\n",
    "    model = LogisticRegression(solver=\"liblinear\", C=1.0, max_iter=1000, random_state=42)\n",
    "    model.fit(XX_train,oh_y_train)\n",
    "    y_pred_val = model.predict(XX_val)\n",
    "    accuracy = round(accuracy_score(oh_y_val, y_pred_val),3)\n",
    "    print(\"Accuracy when \", col,\"is dropped:\", accuracy)"
   ]
  },
  {
   "cell_type": "markdown",
   "id": "849d5d6d",
   "metadata": {},
   "source": [
    "__answer__: __`total_rooms`__"
   ]
  },
  {
   "cell_type": "markdown",
   "id": "aade9e7a",
   "metadata": {},
   "source": [
    "### Question 6\n",
    "- For this question, we'll see how to use a linear regression model from Scikit-Learn\n",
    "\n",
    "\n",
    "- We'll need to use the original column `median_house_value`. Apply the logarithmic transformation to this column.\n",
    "\n",
    "\n",
    "- Fit the Ridge regression model (`model = Ridge(alpha=a, solver=\"sag\", random_state=42)`) on the training data.\n",
    "\n",
    "\n",
    "- This model has a parameter `alpha`. Let's try the following values: `[0, 0.01, 0.1, 1, 10]`\n",
    "\n",
    "\n",
    "- Which of these alphas leads to the best RMSE on the validation set? Round your RMSE scores to 3 decimal digits.\n",
    "\n",
    "\n",
    "If there are multiple options, select the smallest `alpha`.\n",
    "\n",
    "__Options:__\n",
    "\n",
    "- __`0`__\n",
    "- __`0.01`__\n",
    "- __`0.1`__\n",
    "- __`1`__\n",
    "- __`10`__"
   ]
  },
  {
   "cell_type": "code",
   "execution_count": 18,
   "id": "d7a5bbd5",
   "metadata": {},
   "outputs": [
    {
     "name": "stdout",
     "output_type": "stream",
     "text": [
      "RMSE when alpha =  0 is,  0.525\n",
      "RMSE when alpha =  0.01 is,  0.525\n",
      "RMSE when alpha =  0.1 is,  0.525\n",
      "RMSE when alpha =  1 is,  0.525\n",
      "RMSE when alpha =  10 is,  0.525\n"
     ]
    }
   ],
   "source": [
    "# Apply the logarithmic transformation to median_house_value column.\n",
    "y_train = np.log1p(y_train)\n",
    "y_val = np.log1p(y_val)\n",
    "y_test = np.log1p(y_test)\n",
    "\n",
    "alphas = [0, 0.01, 0.1, 1, 10]\n",
    "for a in alphas:\n",
    "    model = Ridge(alpha=a, solver=\"sag\", random_state=42)\n",
    "    model.fit(X_train,y_train)\n",
    "    y_val_pred = model.predict(X_val)\n",
    "    rmse = round(np.sqrt(mean_squared_error(y_val, y_val_pred)),3)\n",
    "    print(\"RMSE when alpha = \",a, \"is, \", rmse)"
   ]
  },
  {
   "cell_type": "code",
   "execution_count": null,
   "id": "e7b9e0cd",
   "metadata": {},
   "outputs": [],
   "source": []
  }
 ],
 "metadata": {
  "kernelspec": {
   "display_name": "Python 3",
   "language": "python",
   "name": "python3"
  },
  "language_info": {
   "codemirror_mode": {
    "name": "ipython",
    "version": 3
   },
   "file_extension": ".py",
   "mimetype": "text/x-python",
   "name": "python",
   "nbconvert_exporter": "python",
   "pygments_lexer": "ipython3",
   "version": "3.9.12"
  }
 },
 "nbformat": 4,
 "nbformat_minor": 5
}
