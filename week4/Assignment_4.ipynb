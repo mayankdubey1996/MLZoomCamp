{
 "cells": [
  {
   "cell_type": "code",
   "execution_count": 1,
   "id": "71abd247",
   "metadata": {},
   "outputs": [],
   "source": [
    "import pandas as pd\n",
    "import numpy as np\n",
    "from sklearn.linear_model import LogisticRegression\n",
    "from sklearn.model_selection import train_test_split\n",
    "from sklearn.metrics import roc_auc_score\n",
    "from sklearn.model_selection import KFold\n",
    "from sklearn.metrics import confusion_matrix\n",
    "import matplotlib.pyplot as plt"
   ]
  },
  {
   "cell_type": "code",
   "execution_count": 2,
   "id": "ebbdffcd",
   "metadata": {},
   "outputs": [],
   "source": [
    "df = pd.read_csv(\"AER_credit_card_data.csv\")"
   ]
  },
  {
   "cell_type": "code",
   "execution_count": 3,
   "id": "2314f5c2",
   "metadata": {},
   "outputs": [
    {
     "data": {
      "text/html": [
       "<div>\n",
       "<style scoped>\n",
       "    .dataframe tbody tr th:only-of-type {\n",
       "        vertical-align: middle;\n",
       "    }\n",
       "\n",
       "    .dataframe tbody tr th {\n",
       "        vertical-align: top;\n",
       "    }\n",
       "\n",
       "    .dataframe thead th {\n",
       "        text-align: right;\n",
       "    }\n",
       "</style>\n",
       "<table border=\"1\" class=\"dataframe\">\n",
       "  <thead>\n",
       "    <tr style=\"text-align: right;\">\n",
       "      <th></th>\n",
       "      <th>card</th>\n",
       "      <th>reports</th>\n",
       "      <th>age</th>\n",
       "      <th>income</th>\n",
       "      <th>share</th>\n",
       "      <th>expenditure</th>\n",
       "      <th>owner</th>\n",
       "      <th>selfemp</th>\n",
       "      <th>dependents</th>\n",
       "      <th>months</th>\n",
       "      <th>majorcards</th>\n",
       "      <th>active</th>\n",
       "    </tr>\n",
       "  </thead>\n",
       "  <tbody>\n",
       "    <tr>\n",
       "      <th>0</th>\n",
       "      <td>yes</td>\n",
       "      <td>0</td>\n",
       "      <td>37.66667</td>\n",
       "      <td>4.5200</td>\n",
       "      <td>0.033270</td>\n",
       "      <td>124.983300</td>\n",
       "      <td>yes</td>\n",
       "      <td>no</td>\n",
       "      <td>3</td>\n",
       "      <td>54</td>\n",
       "      <td>1</td>\n",
       "      <td>12</td>\n",
       "    </tr>\n",
       "    <tr>\n",
       "      <th>1</th>\n",
       "      <td>yes</td>\n",
       "      <td>0</td>\n",
       "      <td>33.25000</td>\n",
       "      <td>2.4200</td>\n",
       "      <td>0.005217</td>\n",
       "      <td>9.854167</td>\n",
       "      <td>no</td>\n",
       "      <td>no</td>\n",
       "      <td>3</td>\n",
       "      <td>34</td>\n",
       "      <td>1</td>\n",
       "      <td>13</td>\n",
       "    </tr>\n",
       "    <tr>\n",
       "      <th>2</th>\n",
       "      <td>yes</td>\n",
       "      <td>0</td>\n",
       "      <td>33.66667</td>\n",
       "      <td>4.5000</td>\n",
       "      <td>0.004156</td>\n",
       "      <td>15.000000</td>\n",
       "      <td>yes</td>\n",
       "      <td>no</td>\n",
       "      <td>4</td>\n",
       "      <td>58</td>\n",
       "      <td>1</td>\n",
       "      <td>5</td>\n",
       "    </tr>\n",
       "    <tr>\n",
       "      <th>3</th>\n",
       "      <td>yes</td>\n",
       "      <td>0</td>\n",
       "      <td>30.50000</td>\n",
       "      <td>2.5400</td>\n",
       "      <td>0.065214</td>\n",
       "      <td>137.869200</td>\n",
       "      <td>no</td>\n",
       "      <td>no</td>\n",
       "      <td>0</td>\n",
       "      <td>25</td>\n",
       "      <td>1</td>\n",
       "      <td>7</td>\n",
       "    </tr>\n",
       "    <tr>\n",
       "      <th>4</th>\n",
       "      <td>yes</td>\n",
       "      <td>0</td>\n",
       "      <td>32.16667</td>\n",
       "      <td>9.7867</td>\n",
       "      <td>0.067051</td>\n",
       "      <td>546.503300</td>\n",
       "      <td>yes</td>\n",
       "      <td>no</td>\n",
       "      <td>2</td>\n",
       "      <td>64</td>\n",
       "      <td>1</td>\n",
       "      <td>5</td>\n",
       "    </tr>\n",
       "  </tbody>\n",
       "</table>\n",
       "</div>"
      ],
      "text/plain": [
       "  card  reports       age  income     share  expenditure owner selfemp  \\\n",
       "0  yes        0  37.66667  4.5200  0.033270   124.983300   yes      no   \n",
       "1  yes        0  33.25000  2.4200  0.005217     9.854167    no      no   \n",
       "2  yes        0  33.66667  4.5000  0.004156    15.000000   yes      no   \n",
       "3  yes        0  30.50000  2.5400  0.065214   137.869200    no      no   \n",
       "4  yes        0  32.16667  9.7867  0.067051   546.503300   yes      no   \n",
       "\n",
       "   dependents  months  majorcards  active  \n",
       "0           3      54           1      12  \n",
       "1           3      34           1      13  \n",
       "2           4      58           1       5  \n",
       "3           0      25           1       7  \n",
       "4           2      64           1       5  "
      ]
     },
     "execution_count": 3,
     "metadata": {},
     "output_type": "execute_result"
    }
   ],
   "source": [
    "df.head()"
   ]
  },
  {
   "cell_type": "code",
   "execution_count": 4,
   "id": "238f8399",
   "metadata": {},
   "outputs": [
    {
     "data": {
      "text/plain": [
       "(1319, 12)"
      ]
     },
     "execution_count": 4,
     "metadata": {},
     "output_type": "execute_result"
    }
   ],
   "source": [
    "df.shape"
   ]
  },
  {
   "cell_type": "code",
   "execution_count": 5,
   "id": "5110bca5",
   "metadata": {},
   "outputs": [
    {
     "name": "stdout",
     "output_type": "stream",
     "text": [
      "<class 'pandas.core.frame.DataFrame'>\n",
      "RangeIndex: 1319 entries, 0 to 1318\n",
      "Data columns (total 12 columns):\n",
      " #   Column       Non-Null Count  Dtype  \n",
      "---  ------       --------------  -----  \n",
      " 0   card         1319 non-null   object \n",
      " 1   reports      1319 non-null   int64  \n",
      " 2   age          1319 non-null   float64\n",
      " 3   income       1319 non-null   float64\n",
      " 4   share        1319 non-null   float64\n",
      " 5   expenditure  1319 non-null   float64\n",
      " 6   owner        1319 non-null   object \n",
      " 7   selfemp      1319 non-null   object \n",
      " 8   dependents   1319 non-null   int64  \n",
      " 9   months       1319 non-null   int64  \n",
      " 10  majorcards   1319 non-null   int64  \n",
      " 11  active       1319 non-null   int64  \n",
      "dtypes: float64(4), int64(5), object(3)\n",
      "memory usage: 123.8+ KB\n"
     ]
    }
   ],
   "source": [
    "df.info()"
   ]
  },
  {
   "cell_type": "markdown",
   "id": "201fa397",
   "metadata": {},
   "source": [
    "### Preparation"
   ]
  },
  {
   "cell_type": "code",
   "execution_count": 6,
   "id": "a0762938",
   "metadata": {},
   "outputs": [],
   "source": [
    "# Create the target variable by mapping yes to 1 and no to 0.\n",
    "df['card'] = np.where(df['card']=='yes',1,0)"
   ]
  },
  {
   "cell_type": "code",
   "execution_count": 7,
   "id": "5c7501aa",
   "metadata": {},
   "outputs": [
    {
     "name": "stdout",
     "output_type": "stream",
     "text": [
      "<class 'pandas.core.frame.DataFrame'>\n",
      "RangeIndex: 1319 entries, 0 to 1318\n",
      "Data columns (total 12 columns):\n",
      " #   Column       Non-Null Count  Dtype  \n",
      "---  ------       --------------  -----  \n",
      " 0   card         1319 non-null   int32  \n",
      " 1   reports      1319 non-null   int64  \n",
      " 2   age          1319 non-null   float64\n",
      " 3   income       1319 non-null   float64\n",
      " 4   share        1319 non-null   float64\n",
      " 5   expenditure  1319 non-null   float64\n",
      " 6   owner        1319 non-null   object \n",
      " 7   selfemp      1319 non-null   object \n",
      " 8   dependents   1319 non-null   int64  \n",
      " 9   months       1319 non-null   int64  \n",
      " 10  majorcards   1319 non-null   int64  \n",
      " 11  active       1319 non-null   int64  \n",
      "dtypes: float64(4), int32(1), int64(5), object(2)\n",
      "memory usage: 118.6+ KB\n"
     ]
    }
   ],
   "source": [
    "df.info()"
   ]
  },
  {
   "cell_type": "code",
   "execution_count": 8,
   "id": "8768206d",
   "metadata": {},
   "outputs": [],
   "source": [
    "# Split the dataset into 3 parts: train/validation/test with 60%/20%/20% distribution. Use train_test_split funciton for that with random_state=1.\n",
    "df_train,df_test = train_test_split(df,test_size = 0.2, random_state=1)\n",
    "df_train,df_val  = train_test_split(df_train,test_size = 0.25, random_state=1)"
   ]
  },
  {
   "cell_type": "code",
   "execution_count": 9,
   "id": "d07f0725",
   "metadata": {},
   "outputs": [],
   "source": [
    "df_train = df_train.reset_index(drop=True)\n",
    "df_test  = df_test.reset_index(drop=True)\n",
    "df_val   = df_val.reset_index(drop=True)"
   ]
  },
  {
   "cell_type": "code",
   "execution_count": 10,
   "id": "756a0e25",
   "metadata": {},
   "outputs": [],
   "source": [
    "X_col = [\"reports\", \"age\", \"income\", \"share\", \"expenditure\", \"dependents\", \"months\", \"majorcards\", \"active\", \"owner\", \"selfemp\"]\n",
    "y_col = \"card\""
   ]
  },
  {
   "cell_type": "code",
   "execution_count": 11,
   "id": "8a0474a2",
   "metadata": {},
   "outputs": [],
   "source": [
    "#data preparation \n",
    "\n",
    "X_train = df_train[X_col] \n",
    "X_test  = df_test[X_col]\n",
    "X_val   = df_val[X_col]\n",
    "\n",
    "y_train = df_train[y_col] \n",
    "y_test  = df_test[y_col]\n",
    "y_val   = df_val[y_col]"
   ]
  },
  {
   "cell_type": "markdown",
   "id": "9b84275d",
   "metadata": {},
   "source": [
    "#### Question 1"
   ]
  },
  {
   "cell_type": "markdown",
   "id": "ae0541ac",
   "metadata": {},
   "source": [
    "ROC AUC could also be used to evaluate feature importance of numerical variables.\n",
    "\n",
    "Let's do that\n",
    "\n",
    "- For each numerical variable, use it as score and compute AUC with the card variable.\n",
    "- Use the training dataset for that.\n",
    "If your AUC is < 0.5, invert this variable by putting \"-\" in front\n",
    "\n",
    "(e.g. `-df_train['expenditure']`)\n",
    "\n",
    "AUC can go below 0.5 if the variable is negatively correlated with the target varialble. You can change the direction of the correlation by negating this variable - then negative correlation becomes positive.\n",
    "\n",
    "Which numerical variable (among the following 4) has the highest AUC?\n",
    "- `reports`\n",
    "- `dependents`\n",
    "- `active`\n",
    "- `share`"
   ]
  },
  {
   "cell_type": "code",
   "execution_count": 12,
   "id": "b49ea175",
   "metadata": {},
   "outputs": [],
   "source": [
    "columns = [\"reports\",\n",
    "\"dependents\",\n",
    "\"active\",\n",
    "\"share\"]"
   ]
  },
  {
   "cell_type": "code",
   "execution_count": 13,
   "id": "ba5b0e11",
   "metadata": {},
   "outputs": [
    {
     "name": "stdout",
     "output_type": "stream",
     "text": [
      "reports\n",
      "dependents\n",
      "active\n",
      "share\n"
     ]
    }
   ],
   "source": [
    "result = {}\n",
    "for col in columns:\n",
    "    print(col)\n",
    "    auc = roc_auc_score(y_train,X_train[col])\n",
    "    if auc<0.5:\n",
    "        auc = roc_auc_score(y_train,-X_train[col]) \n",
    "    result[col]=auc"
   ]
  },
  {
   "cell_type": "code",
   "execution_count": 14,
   "id": "3fc70331",
   "metadata": {},
   "outputs": [
    {
     "data": {
      "text/plain": [
       "{'reports': 0.7166629860689376,\n",
       " 'dependents': 0.5327757227773791,\n",
       " 'active': 0.6043173411362006,\n",
       " 'share': 0.989183643423692}"
      ]
     },
     "execution_count": 14,
     "metadata": {},
     "output_type": "execute_result"
    }
   ],
   "source": [
    "result"
   ]
  },
  {
   "cell_type": "markdown",
   "id": "9e0d05a2",
   "metadata": {},
   "source": [
    "__answer: option *d* `share`__"
   ]
  },
  {
   "cell_type": "markdown",
   "id": "7cde6e24",
   "metadata": {},
   "source": [
    "## Training the model\n",
    "From now on, use these columns only:\n",
    "\n",
    "`[\"reports\", \"age\", \"income\", \"share\", \"expenditure\", \"dependents\", \"months\", \"majorcards\", \"active\", \"owner\", \"selfemp\"]`\n",
    "\n",
    "Apply one-hot-encoding using DictVectorizer and train the logistic regression with these parameters:\n",
    "\n",
    "`LogisticRegression(solver='liblinear', C=1.0, max_iter=1000)`"
   ]
  },
  {
   "cell_type": "markdown",
   "id": "dfa2972d",
   "metadata": {},
   "source": [
    "### Question 2\n",
    "\n",
    "What's the AUC of this model on the validation dataset? (round to 3 digits)\n",
    "\n",
    "- 0.615\n",
    "- 0.515\n",
    "- 0.715\n",
    "- 0.995"
   ]
  },
  {
   "cell_type": "code",
   "execution_count": 15,
   "id": "e33f6643",
   "metadata": {},
   "outputs": [],
   "source": [
    "#data preparation\n",
    "X_train = pd.get_dummies(X_train)\n",
    "X_test  = pd.get_dummies(X_test)\n",
    "X_val   = pd.get_dummies(X_val)"
   ]
  },
  {
   "cell_type": "code",
   "execution_count": 16,
   "id": "adb76fe6",
   "metadata": {},
   "outputs": [
    {
     "name": "stdout",
     "output_type": "stream",
     "text": [
      "AUC Score:  0.995\n"
     ]
    }
   ],
   "source": [
    "lr = LogisticRegression(solver='liblinear', C=1.0, max_iter=1000)\n",
    "lr.fit(X_train,y_train)\n",
    "y_val_pred_proba =  lr.predict_proba(X_val)[:, 1]\n",
    "score = roc_auc_score(y_val,y_val_pred_proba)\n",
    "print(\"AUC Score: \", round(score,3))"
   ]
  },
  {
   "cell_type": "markdown",
   "id": "efffc3a7",
   "metadata": {},
   "source": [
    "__answer: option *d* `0.995`__"
   ]
  },
  {
   "cell_type": "markdown",
   "id": "e2e59e64",
   "metadata": {},
   "source": [
    "### Question 3\n",
    "\n",
    "Now let's compute precision and recall for our model.\n",
    "\n",
    "- Evaluate the model on all thresholds from 0.0 to 1.0 with step 0.01\n",
    "- For each threshold, compute precision and recall\n",
    "- Plot them\n",
    "\n",
    "\n",
    "At which threshold precision and recall curves intersect?\n",
    "\n",
    "- 0.1\n",
    "- 0.3\n",
    "- 0.6\n",
    "- 0.8"
   ]
  },
  {
   "cell_type": "code",
   "execution_count": 17,
   "id": "8c769e68",
   "metadata": {},
   "outputs": [],
   "source": [
    "def calculate_precision_recall(y_val, y_val_pred_proba):\n",
    "    precision,recall = [],[]\n",
    "    P,R = 0,0\n",
    "    threshold = {}\n",
    "    X = np.linspace(0, 1, 100)\n",
    "    for i in range(len(X)):\n",
    "        X[i] = round(X[i],2)\n",
    "\n",
    "    for cut_off in X:\n",
    "        y_pred_val = np.where(y_val_pred_proba<cut_off,0,1)\n",
    "        M = confusion_matrix(y_val, y_pred_val)\n",
    "        tn, fp, fn, tp = M.ravel() \n",
    "        P = round(tp/(tp+fp),3)\n",
    "        R = round(tp/(tp+fn),3)\n",
    "        precision.append(P)\n",
    "        recall.append(R)\n",
    "        threshold[cut_off] = {\"precision\":P,\"recall\":R}\n",
    "    return threshold,precision,recall"
   ]
  },
  {
   "cell_type": "code",
   "execution_count": 18,
   "id": "b8a0f2a4",
   "metadata": {},
   "outputs": [],
   "source": [
    "threshold_dict,precision,recall = calculate_precision_recall(y_val, y_val_pred_proba)"
   ]
  },
  {
   "cell_type": "code",
   "execution_count": 19,
   "id": "bc596d19",
   "metadata": {},
   "outputs": [
    {
     "data": {
      "image/png": "[encoded data removed]",
      "text/plain": [
       "<Figure size 432x288 with 1 Axes>"
      ]
     },
     "metadata": {
      "needs_background": "light"
     },
     "output_type": "display_data"
    }
   ],
   "source": [
    "plt.plot(precision,label=\"precision\")\n",
    "plt.plot(recall,label=\"recall\")\n",
    "plt.legend()\n",
    "plt.show()"
   ]
  },
  {
   "cell_type": "code",
   "execution_count": 20,
   "id": "06e38d40",
   "metadata": {},
   "outputs": [
    {
     "name": "stdout",
     "output_type": "stream",
     "text": [
      "0.24\n",
      "0.25\n",
      "0.26\n",
      "0.27\n",
      "0.28\n",
      "0.29\n"
     ]
    }
   ],
   "source": [
    "for cutoff in threshold_dict:\n",
    "    if threshold_dict[cutoff]['precision'] == threshold_dict[cutoff]['recall']:\n",
    "        print(cutoff)"
   ]
  },
  {
   "cell_type": "markdown",
   "id": "18ea98c9",
   "metadata": {},
   "source": [
    "answer: __option *d* `0.30`__"
   ]
  },
  {
   "cell_type": "markdown",
   "id": "dbf5651b",
   "metadata": {},
   "source": [
    "### Question 4\n",
    "Precision and recall are conflicting - when one grows, the other goes down. That's why they are often combined into the F1 score - a metrics that takes into account both\n",
    "\n",
    "This is the formula for computing F1:\n",
    "\n",
    "F1 = 2 * P * R / (P + R)\n",
    "\n",
    "Where P is precision and R is recall.\n",
    "\n",
    "Let's compute F1 for all thresholds from 0.0 to 1.0 with increment 0.01\n",
    "\n",
    "At which threshold F1 is maximal?\n",
    "\n",
    "- 0.1\n",
    "- 0.4\n",
    "- 0.6\n",
    "- 0.7"
   ]
  },
  {
   "cell_type": "code",
   "execution_count": 21,
   "id": "adbd5e7f",
   "metadata": {},
   "outputs": [],
   "source": [
    "def calculate_f1(y_val, y_val_pred_proba):\n",
    "    precision,recall = [],[]\n",
    "    P,R = 0,0\n",
    "    threshold = {}\n",
    "    X = np.linspace(0, 1, 100)\n",
    "    for i in range(len(X)):\n",
    "        X[i] = round(X[i],2)\n",
    "\n",
    "    for cut_off in X:\n",
    "        y_pred_val = np.where(y_val_pred_proba<cut_off,0,1)\n",
    "        M = confusion_matrix(y_val, y_pred_val)\n",
    "        tn, fp, fn, tp = M.ravel() \n",
    "        P = round(tp/(tp+fp),5)\n",
    "        R = round(tp/(tp+fn),5)\n",
    "        f1 = (2*P*R)/(P+R)\n",
    "        threshold[cut_off] = round(f1,5)\n",
    "    return threshold"
   ]
  },
  {
   "cell_type": "code",
   "execution_count": 22,
   "id": "ed0e9dcb",
   "metadata": {},
   "outputs": [],
   "source": [
    "threshold = calculate_f1(y_val, y_val_pred_proba)"
   ]
  },
  {
   "cell_type": "code",
   "execution_count": 23,
   "id": "cb306b53",
   "metadata": {},
   "outputs": [
    {
     "data": {
      "text/plain": [
       "{0.0: 0.88842,\n",
       " 1.0: 0.91795,\n",
       " 0.01: 0.92544,\n",
       " 0.02: 0.93157,\n",
       " 0.03: 0.94619,\n",
       " 0.04: 0.95045,\n",
       " 0.05: 0.95045,\n",
       " 0.08: 0.95672,\n",
       " 0.09: 0.95672,\n",
       " 0.06: 0.95692,\n",
       " 0.07: 0.95692,\n",
       " 0.1: 0.9589,\n",
       " 0.11: 0.9589,\n",
       " 0.12: 0.9589,\n",
       " 0.14: 0.97196,\n",
       " 0.15: 0.97196,\n",
       " 0.13: 0.97222,\n",
       " 0.3: 0.97387,\n",
       " 0.31: 0.97619,\n",
       " 0.32: 0.97619,\n",
       " 0.33: 0.97619,\n",
       " 0.24: 0.9763,\n",
       " 0.25: 0.9763,\n",
       " 0.26: 0.9763,\n",
       " 0.27: 0.9763,\n",
       " 0.28: 0.9763,\n",
       " 0.29: 0.9763,\n",
       " 0.18: 0.97641,\n",
       " 0.16: 0.97652,\n",
       " 0.17: 0.97652,\n",
       " 0.99: 0.97821,\n",
       " 0.19: 0.97872,\n",
       " 0.2: 0.97872,\n",
       " 0.21: 0.97872,\n",
       " 0.22: 0.97872,\n",
       " 0.23: 0.97872,\n",
       " 0.97: 0.98068,\n",
       " 0.98: 0.98068,\n",
       " 0.42: 0.98077,\n",
       " 0.43: 0.98077,\n",
       " 0.44: 0.98077,\n",
       " 0.45: 0.98077,\n",
       " 0.46: 0.98077,\n",
       " 0.47: 0.98077,\n",
       " 0.48: 0.98077,\n",
       " 0.49: 0.98077,\n",
       " 0.51: 0.98077,\n",
       " 0.52: 0.98077,\n",
       " 0.53: 0.98077,\n",
       " 0.54: 0.98077,\n",
       " 0.55: 0.98077,\n",
       " 0.56: 0.98077,\n",
       " 0.57: 0.98077,\n",
       " 0.58: 0.98077,\n",
       " 0.59: 0.98077,\n",
       " 0.6: 0.98077,\n",
       " 0.61: 0.98077,\n",
       " 0.62: 0.98077,\n",
       " 0.63: 0.98077,\n",
       " 0.64: 0.98077,\n",
       " 0.65: 0.98077,\n",
       " 0.66: 0.98077,\n",
       " 0.67: 0.98077,\n",
       " 0.68: 0.98077,\n",
       " 0.69: 0.98077,\n",
       " 0.7: 0.98077,\n",
       " 0.71: 0.98077,\n",
       " 0.72: 0.98077,\n",
       " 0.73: 0.98077,\n",
       " 0.74: 0.98077,\n",
       " 0.75: 0.98077,\n",
       " 0.76: 0.98077,\n",
       " 0.77: 0.98077,\n",
       " 0.78: 0.98077,\n",
       " 0.79: 0.98077,\n",
       " 0.8: 0.98077,\n",
       " 0.81: 0.98077,\n",
       " 0.82: 0.98077,\n",
       " 0.83: 0.98077,\n",
       " 0.84: 0.98077,\n",
       " 0.34: 0.98086,\n",
       " 0.85: 0.98313,\n",
       " 0.86: 0.98313,\n",
       " 0.87: 0.98313,\n",
       " 0.88: 0.98313,\n",
       " 0.89: 0.98313,\n",
       " 0.9: 0.98313,\n",
       " 0.91: 0.98313,\n",
       " 0.92: 0.98313,\n",
       " 0.93: 0.98313,\n",
       " 0.94: 0.98313,\n",
       " 0.95: 0.98313,\n",
       " 0.96: 0.98313,\n",
       " 0.35: 0.98321,\n",
       " 0.36: 0.98321,\n",
       " 0.37: 0.98321,\n",
       " 0.38: 0.98321,\n",
       " 0.39: 0.98321,\n",
       " 0.4: 0.98321,\n",
       " 0.41: 0.98321}"
      ]
     },
     "execution_count": 23,
     "metadata": {},
     "output_type": "execute_result"
    }
   ],
   "source": [
    "{k: v for k, v in sorted(threshold.items(), key=lambda item: item[1])}"
   ]
  },
  {
   "cell_type": "markdown",
   "id": "2b0969a4",
   "metadata": {},
   "source": [
    "answer: __option *b* `0.41`__"
   ]
  },
  {
   "cell_type": "markdown",
   "id": "5b8f7d39",
   "metadata": {},
   "source": [
    "#### Question 5\n",
    "\n",
    "Use the KFold class from Scikit-Learn to evaluate our model on 5 different folds:\n",
    "\n",
    "`KFold(n_splits=5, shuffle=True, random_state=1)`\n",
    "\n",
    "- Iterate over different folds of df_full_train\n",
    "- Split the data into train and validation\n",
    "- Train the model on train with these parameters: `LogisticRegression(solver='liblinear', C=1.0, max_iter=1000)`\n",
    "- Use AUC to evaluate the model on validation\n",
    "\n",
    "How large is standard devidation of the AUC scores across different folds?\n",
    "\n",
    "- 0.003\n",
    "- 0.014\n",
    "- 0.09\n",
    "- 0.24"
   ]
  },
  {
   "cell_type": "code",
   "execution_count": 24,
   "id": "cc7b7505",
   "metadata": {},
   "outputs": [],
   "source": [
    "def get_k_fold_result(X,y):\n",
    "    aucs = []\n",
    "    kf = KFold(n_splits=5, shuffle=True, random_state=1)\n",
    "    kf.get_n_splits(X)\n",
    "    for train_index, val_index in kf.split(X):\n",
    "        train_index, val_index = list(train_index),  list(val_index)\n",
    "        X_train, X_val = X.iloc[train_index], X.iloc[val_index]\n",
    "        y_train, y_val = y.iloc[train_index], y.iloc[val_index]\n",
    "        \n",
    "        lr = LogisticRegression(solver='liblinear', C=1.0, max_iter=1000)\n",
    "        lr.fit(X_train,y_train)\n",
    "        y_val_pred_proba =  lr.predict_proba(X_val)[:, 1]\n",
    "        score = roc_auc_score(y_val,y_val_pred_proba)\n",
    "        #print(\"AUC Score: \", round(score,3))\n",
    "        aucs.append(round(score,3))\n",
    "    return aucs"
   ]
  },
  {
   "cell_type": "code",
   "execution_count": 25,
   "id": "a2d0af13",
   "metadata": {},
   "outputs": [
    {
     "name": "stdout",
     "output_type": "stream",
     "text": [
      "AUC Score of 5-fold validation:  0.003\n"
     ]
    }
   ],
   "source": [
    "aucs = get_k_fold_result(X_train,y_train)\n",
    "std_auc = round(np.std(aucs),3) \n",
    "print(\"AUC Score of 5-fold validation: \", std_auc)"
   ]
  },
  {
   "cell_type": "markdown",
   "id": "f34ef086",
   "metadata": {},
   "source": [
    "answer: __option *a* `0.003`__"
   ]
  },
  {
   "cell_type": "markdown",
   "id": "8cb386a2",
   "metadata": {},
   "source": [
    "### Question 6\n",
    "Now let's use 5-Fold cross-validation to find the best parameter C\n",
    "\n",
    "- Iterate over the following C values: `[0.01, 0.1, 1, 10]`\n",
    "- Initialize `KFold` with the same parameters as previously\n",
    "- Use these parametes for the model: `LogisticRegression(solver='liblinear', C=C, max_iter=1000)`\n",
    "- Compute the mean score as well as the std (round the mean and std to 3 decimal digits)\n",
    "\n",
    "Which C leads to the best mean score?\n",
    "\n",
    "- 0.01\n",
    "- 0.1\n",
    "- 1\n",
    "- 10\n",
    "\n",
    "If you have ties, select the score with the lowest std. If you still have ties, select the smallest C"
   ]
  },
  {
   "cell_type": "code",
   "execution_count": 31,
   "id": "6aebc4b4",
   "metadata": {},
   "outputs": [],
   "source": [
    "def get_k_fold_result(X,y):\n",
    "    regularization_strength = [0.01, 0.1, 1, 10]\n",
    "    auc_dict = {}\n",
    "    \n",
    "    for c in regularization_strength:\n",
    "        aucs = []\n",
    "        kf = KFold(n_splits=5, shuffle=True, random_state=1)\n",
    " \n",
    "        for train_index, val_index in kf.split(X):\n",
    "            train_index, val_index = list(train_index),  list(val_index)\n",
    "            X_train, X_val = X.iloc[train_index], X.iloc[val_index]\n",
    "            y_train, y_val = y.iloc[train_index], y.iloc[val_index]\n",
    "\n",
    "            lr = LogisticRegression(solver='liblinear', C=c, max_iter=1000)\n",
    "            lr.fit(X_train,y_train)\n",
    "            y_val_pred_proba =  lr.predict_proba(X_val)[:, 1]\n",
    "            score = roc_auc_score(y_val,y_val_pred_proba)\n",
    "            aucs.append(round(score,3))\n",
    "        print(aucs)\n",
    "        mean_auc = round(np.mean(aucs),3) \n",
    "        std_auc  = round(np.std(aucs),3)\n",
    "        auc_dict[c] = {\"mean\":mean_auc,\"std\":std_auc}\n",
    "    return auc_dict"
   ]
  },
  {
   "cell_type": "code",
   "execution_count": 32,
   "id": "4e1c97be",
   "metadata": {},
   "outputs": [
    {
     "name": "stdout",
     "output_type": "stream",
     "text": [
      "[0.984, 1.0, 0.989, 0.996, 0.991]\n",
      "[0.989, 1.0, 0.991, 0.997, 0.997]\n",
      "[0.996, 0.999, 0.991, 0.997, 1.0]\n",
      "[0.997, 0.999, 0.989, 0.997, 1.0]\n"
     ]
    }
   ],
   "source": [
    "auc_dict = get_k_fold_result(X_train,y_train)"
   ]
  },
  {
   "cell_type": "code",
   "execution_count": 33,
   "id": "04a2e050",
   "metadata": {},
   "outputs": [
    {
     "data": {
      "text/plain": [
       "{0.01: {'mean': 0.992, 'std': 0.006},\n",
       " 0.1: {'mean': 0.995, 'std': 0.004},\n",
       " 1: {'mean': 0.997, 'std': 0.003},\n",
       " 10: {'mean': 0.996, 'std': 0.004}}"
      ]
     },
     "execution_count": 33,
     "metadata": {},
     "output_type": "execute_result"
    }
   ],
   "source": [
    "auc_dict"
   ]
  },
  {
   "cell_type": "markdown",
   "id": "9939568c",
   "metadata": {},
   "source": [
    "answer: __option *d*__ `C=10` where mean = 0.995 and std = 0.005"
   ]
  },
  {
   "cell_type": "code",
   "execution_count": null,
   "id": "5dccac4b",
   "metadata": {},
   "outputs": [],
   "source": []
  }
 ],
 "metadata": {
  "kernelspec": {
   "display_name": "Python 3",
   "language": "python",
   "name": "python3"
  },
  "language_info": {
   "codemirror_mode": {
    "name": "ipython",
    "version": 3
   },
   "file_extension": ".py",
   "mimetype": "text/x-python",
   "name": "python",
   "nbconvert_exporter": "python",
   "pygments_lexer": "ipython3",
   "version": "3.9.12"
  }
 },
 "nbformat": 4,
 "nbformat_minor": 5
}
