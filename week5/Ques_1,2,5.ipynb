{
 "cells": [
  {
   "attachments": {
    "ans1.png": {
     "image/png": "[encoded data removed]"
    }
   },
   "cell_type": "markdown",
   "id": "63cf6a2c",
   "metadata": {},
   "source": [
    "### Question 1\n",
    "- Install Pipenv\n",
    "- What's the version of pipenv you installed?\n",
    "- Use `--version` to find out\n",
    "\n",
    "![ans1.png](attachment:ans1.png)"
   ]
  },
  {
   "cell_type": "markdown",
   "id": "3ae86f57",
   "metadata": {},
   "source": [
    "__pipenv-2022.9.24__"
   ]
  },
  {
   "cell_type": "markdown",
   "id": "7f99a49f",
   "metadata": {},
   "source": [
    "### Question 2\n",
    "\n",
    "- Use Pipenv to install Scikit-Learn version 1.0.2\n",
    "- What's the first hash for scikit-learn you get in Pipfile.lock?"
   ]
  },
  {
   "cell_type": "markdown",
   "id": "2000775b",
   "metadata": {},
   "source": [
    "__\"sha256:08ef968f6b72033c16c479c966bf37ccd49b06ea91b765e1cc27afefe723920b\"__"
   ]
  },
  {
   "cell_type": "markdown",
   "id": "d531501d",
   "metadata": {},
   "source": [
    "### Models\n",
    "We've prepared a dictionary vectorizer and a model.\n",
    "\n",
    "They were trained (roughly) using this code:\n",
    "\n",
    "```python\n",
    "features = ['reports', 'share', 'expenditure', 'owner']\n",
    "dicts = df[features].to_dict(orient='records')\n",
    "\n",
    "dv = DictVectorizer(sparse=False)\n",
    "X = dv.fit_transform(dicts)\n",
    "\n",
    "model = LogisticRegression(solver='liblinear').fit(X, y)\n",
    "```\n",
    "\n",
    "- Note: You don't need to train the model. This code is just for your reference.\n",
    "\n",
    "And then saved with Pickle. Download them:\n",
    "\n",
    "- DictVectorizer\n",
    "- LogisticRegression\n",
    "\n",
    "With `wget`:\n",
    "\n",
    "\n",
    "```\n",
    "PREFIX=https://raw.githubusercontent.com/alexeygrigorev/mlbookcamp-code/master/course-zoomcamp/cohorts/2022/05-deployment/homework\n",
    "wget $PREFIX/model1.bin\n",
    "wget $PREFIX/dv.bin\n",
    "```"
   ]
  },
  {
   "cell_type": "markdown",
   "id": "b21ce34a",
   "metadata": {},
   "source": [
    "### Question 5\n",
    "Download the base image svizor/zoomcamp-model:3.9.12-slim. You can easily make it by using docker pull command.\n",
    "\n",
    "So what's the size of this base image?\n",
    "\n",
    "- 15 Mb\n",
    "- 125 Mb\n",
    "- 275 Mb\n",
    "- 415 Mb\n",
    "\n",
    "You can get this information when running `docker images` - it'll be in the \"SIZE\" column."
   ]
  },
  {
   "cell_type": "markdown",
   "id": "1dcb0c9b",
   "metadata": {},
   "source": [
    "answer: __option b `125 Mb`__"
   ]
  },
  {
   "cell_type": "markdown",
   "id": "45f411ae",
   "metadata": {},
   "source": [
    "### Question 6\n",
    "Let's run your docker container!\n",
    "\n",
    "After running it, score this client once again:\n",
    "\n",
    "```python\n",
    "url = \"YOUR_URL\"\n",
    "client = {\"reports\": 0, \"share\": 0.245, \"expenditure\": 3.438, \"owner\": \"yes\"}\n",
    "requests.post(url, json=client).json()\n",
    "```\n",
    "\n",
    "What's the probability that this client will get a credit card now?\n",
    "\n",
    "- 0.289\n",
    "- 0.502\n",
    "- 0.769\n",
    "- 0.972"
   ]
  },
  {
   "cell_type": "code",
   "execution_count": null,
   "id": "82e79ed9",
   "metadata": {},
   "outputs": [],
   "source": []
  }
 ],
 "metadata": {
  "kernelspec": {
   "display_name": "Python 3",
   "language": "python",
   "name": "python3"
  },
  "language_info": {
   "codemirror_mode": {
    "name": "ipython",
    "version": 3
   },
   "file_extension": ".py",
   "mimetype": "text/x-python",
   "name": "python",
   "nbconvert_exporter": "python",
   "pygments_lexer": "ipython3",
   "version": "3.9.12"
  }
 },
 "nbformat": 4,
 "nbformat_minor": 5
}
