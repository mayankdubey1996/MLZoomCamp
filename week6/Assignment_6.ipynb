{
 "cells": [
  {
   "cell_type": "code",
   "execution_count": 1,
   "id": "84206ec5",
   "metadata": {},
   "outputs": [
    {
     "name": "stderr",
     "output_type": "stream",
     "text": [
      "C:\\Users\\mayan\\AppData\\Roaming\\Python\\Python39\\site-packages\\xgboost\\compat.py:31: FutureWarning: pandas.Int64Index is deprecated and will be removed from pandas in a future version. Use pandas.Index with the appropriate dtype instead.\n",
      "  from pandas import MultiIndex, Int64Index\n"
     ]
    }
   ],
   "source": [
    "#@ IMPORTING LIBRARIES AND DEPENDENCIES:\n",
    "import re\n",
    "import numpy as np\n",
    "import pandas as pd\n",
    "import seaborn as sns\n",
    "import xgboost as xgb\n",
    "import matplotlib.pyplot as plt\n",
    "from tqdm.auto import tqdm\n",
    "from sklearn import tree\n",
    "from sklearn.tree import DecisionTreeRegressor\n",
    "from sklearn.tree import export_text\n",
    "from sklearn.feature_extraction import DictVectorizer\n",
    "from sklearn.model_selection import train_test_split\n",
    "from sklearn.ensemble import RandomForestRegressor\n",
    "from sklearn.metrics import mean_squared_error\n",
    "import graphviz \n",
    "\n",
    "%matplotlib inline"
   ]
  },
  {
   "cell_type": "code",
   "execution_count": 2,
   "id": "c1ab73f8",
   "metadata": {},
   "outputs": [],
   "source": [
    "df = pd.read_csv(\"data/housing.csv\")"
   ]
  },
  {
   "cell_type": "code",
   "execution_count": 3,
   "id": "698e40ec",
   "metadata": {},
   "outputs": [],
   "source": [
    "select_cols = [\"longitude\", \"latitude\", \"housing_median_age\", \"total_rooms\", \"total_bedrooms\", \"population\", \"households\", \n",
    "               \"median_income\", \"median_house_value\", \"ocean_proximity\"]\n",
    "df=df[select_cols]"
   ]
  },
  {
   "cell_type": "code",
   "execution_count": 4,
   "id": "f84bc5a0",
   "metadata": {},
   "outputs": [],
   "source": [
    "df.total_bedrooms = df.total_bedrooms.fillna(0)"
   ]
  },
  {
   "cell_type": "markdown",
   "id": "fdba8730",
   "metadata": {},
   "source": [
    "- Apply the log transform to median_house_value.\n",
    "- Do train/validation/test split with 60%/20%/20% distribution.\n",
    "- Use the train_test_split function and set the random_state parameter to 1."
   ]
  },
  {
   "cell_type": "code",
   "execution_count": 5,
   "id": "90f1c5e8",
   "metadata": {},
   "outputs": [],
   "source": [
    "#@ SPLITTING THE DATASET FOR TRAINING AND TEST:\n",
    "\n",
    "df[\"median_house_value\"] = np.log(df[\"median_house_value\"])\n",
    "\n",
    "df_train,df_test = train_test_split(df,test_size=0.2,random_state=1)\n",
    "df_train,df_val = train_test_split(df_train,test_size=0.25,random_state=1)"
   ]
  },
  {
   "cell_type": "code",
   "execution_count": 6,
   "id": "0a8dc169",
   "metadata": {},
   "outputs": [],
   "source": [
    "X_col = [\"longitude\", \"latitude\", \"housing_median_age\", \"total_rooms\", \"total_bedrooms\", \"population\", \"households\", \n",
    "               \"median_income\", \"ocean_proximity\"]\n",
    "y_col = \"median_house_value\"\n",
    "\n",
    "X_train, y_train = df_train[X_col], df_train[y_col]\n",
    "X_val, y_val     = df_val[X_col],   df_val[y_col]\n",
    "X_test, y_test   = df_test[X_col],  df_test[y_col]"
   ]
  },
  {
   "cell_type": "markdown",
   "id": "1489bca6",
   "metadata": {},
   "source": [
    "- We will use `DictVectorizer` to turn train and validation into matrices."
   ]
  },
  {
   "cell_type": "code",
   "execution_count": 7,
   "id": "1c9c796a",
   "metadata": {},
   "outputs": [],
   "source": [
    "#@ IMPLEMENTATION OF DICTVECTORIZER:\n",
    "\n",
    "X_train_dict = X_train.to_dict(orient='records')\n",
    "X_val_dict   = X_val.to_dict(orient='records')\n",
    "X_test_dict  = X_test.to_dict(orient='records')\n",
    "\n",
    "\n",
    "dv = DictVectorizer(sparse=False)\n",
    "X_train = dv.fit_transform(X_train_dict)\n",
    "X_val   = dv.transform(X_val_dict)\n",
    "X_test  = dv.transform(X_test_dict)\n",
    "\n",
    "columns = dv.feature_names_"
   ]
  },
  {
   "cell_type": "markdown",
   "id": "50ed2be5",
   "metadata": {},
   "source": [
    "__Question 1__\n",
    "\n",
    "Let's train a decision tree regressor to predict the `median_house_value` variable.\n",
    "\n",
    "Train a model with `max_depth=1`.\n",
    "\n",
    "Which feature is used for splitting the data?\n",
    "\n",
    "- `ocean_proximity=INLAND`\n",
    "- `total_rooms`\n",
    "- `latitude`\n",
    "- `population`"
   ]
  },
  {
   "cell_type": "code",
   "execution_count": 8,
   "id": "af80b400",
   "metadata": {},
   "outputs": [
    {
     "data": {
      "text/plain": [
       "DecisionTreeRegressor(max_depth=1)"
      ]
     },
     "execution_count": 8,
     "metadata": {},
     "output_type": "execute_result"
    }
   ],
   "source": [
    "#@ TRAINING THE REGRESSION MODEL:\n",
    "dt = DecisionTreeRegressor(max_depth=1)\n",
    "dt.fit(X_train,y_train)"
   ]
  },
  {
   "cell_type": "code",
   "execution_count": 9,
   "id": "bc7f04a5",
   "metadata": {},
   "outputs": [
    {
     "data": {
      "text/plain": [
       "[Text(0.5, 0.75, 'ocean_proximity=INLAND <= 0.5\\nsquared_error = 0.322\\nsamples = 12384\\nvalue = 12.088'),\n",
       " Text(0.25, 0.25, 'squared_error = 0.214\\nsamples = 8483\\nvalue = 12.307'),\n",
       " Text(0.75, 0.25, 'squared_error = 0.227\\nsamples = 3901\\nvalue = 11.613')]"
      ]
     },
     "execution_count": 9,
     "metadata": {},
     "output_type": "execute_result"
    },
    {
     "data": {
      "image/png": "[encoded data removed]",
      "text/plain": [
       "<Figure size 432x288 with 1 Axes>"
      ]
     },
     "metadata": {
      "needs_background": "light"
     },
     "output_type": "display_data"
    }
   ],
   "source": [
    "#@ INSPECTION:\n",
    "tree.plot_tree(dt,\n",
    "               feature_names = dv.feature_names_, \n",
    "               class_names=y_train,\n",
    "               filled = True)"
   ]
  },
  {
   "cell_type": "markdown",
   "id": "6c5cf27c",
   "metadata": {},
   "source": [
    "__ANSWER__ option `a) `__ocean_proximity=INLAND__"
   ]
  },
  {
   "cell_type": "markdown",
   "id": "bb61a20e",
   "metadata": {},
   "source": [
    "__Quesiton 2__\n",
    "\n",
    "Train a random forest model with these parameters:\n",
    "\n",
    "- `n_estimators=10`\n",
    "\n",
    "- `random_state=1`\n",
    "\n",
    "- `n_jobs=-1` (optional - to make training faster)\n",
    "\n",
    "\n",
    "What's the RMSE of this model on validation?\n",
    "\n",
    "- 0.05\n",
    "- 0.25\n",
    "- 0.55\n",
    "- 0.85"
   ]
  },
  {
   "cell_type": "code",
   "execution_count": 10,
   "id": "a4c39a9a",
   "metadata": {},
   "outputs": [
    {
     "data": {
      "text/plain": [
       "RandomForestRegressor(n_estimators=10, n_jobs=-1, random_state=1)"
      ]
     },
     "execution_count": 10,
     "metadata": {},
     "output_type": "execute_result"
    }
   ],
   "source": [
    "#@ TRAINING RANDOM FOREST MODEL:\n",
    "rf = RandomForestRegressor(n_estimators=10,random_state=1,n_jobs=-1)\n",
    "rf.fit(X_train,y_train)"
   ]
  },
  {
   "cell_type": "code",
   "execution_count": 11,
   "id": "41c24e5e",
   "metadata": {
    "scrolled": true
   },
   "outputs": [
    {
     "name": "stdout",
     "output_type": "stream",
     "text": [
      "0.25\n"
     ]
    }
   ],
   "source": [
    "#@ CALCULATING MEAN SQUARED ERROR:\n",
    "y_val_pred = rf.predict(X_val)\n",
    "rmse = round(mean_squared_error(y_val, y_val_pred)**.5,2)\n",
    "print(rmse)"
   ]
  },
  {
   "cell_type": "markdown",
   "id": "27ac906e",
   "metadata": {},
   "source": [
    "__ANSWER__ option `b) `__0.25__"
   ]
  },
  {
   "cell_type": "markdown",
   "id": "39eeaa57",
   "metadata": {},
   "source": [
    "__Question 3__\n",
    "\n",
    "Now let's experiment with the `n_estimators` parameter\n",
    "\n",
    "Try different values of this parameter from 10 to 200 with step 10.\n",
    "Set `random_state` to 1.\n",
    "\n",
    "Evaluate the model on the validation dataset.\n",
    "After which value of `n_estimators` does RMSE stop improving?\n",
    "\n",
    "- 10\n",
    "- 50\n",
    "- 70\n",
    "- 150"
   ]
  },
  {
   "cell_type": "code",
   "execution_count": 12,
   "id": "e25a0c28",
   "metadata": {},
   "outputs": [],
   "source": [
    "est_rmse = {}\n",
    "\n",
    "n_est = list(range(10,201,10))\n",
    "for curr_est in n_est:\n",
    "    #@ TRAINING RANDOM FOREST MODEL:\n",
    "    rf = RandomForestRegressor(n_estimators=curr_est,random_state=1,n_jobs=-1)\n",
    "    rf.fit(X_train,y_train)\n",
    "    y_val_pred = rf.predict(X_val)\n",
    "    rmse = round(mean_squared_error(y_val, y_val_pred)**.5,4)\n",
    "    \n",
    "    est_rmse[curr_est]=rmse"
   ]
  },
  {
   "cell_type": "code",
   "execution_count": 13,
   "id": "1d5d6cbe",
   "metadata": {},
   "outputs": [],
   "source": [
    "#@ INSPECTING THE RMSE SCORES:\n",
    "lists = est_rmse.items()\n",
    "est,rmse = zip(*lists)"
   ]
  },
  {
   "cell_type": "code",
   "execution_count": 14,
   "id": "9580a8c1",
   "metadata": {},
   "outputs": [
    {
     "data": {
      "image/png": "[encoded data removed]",
      "text/plain": [
       "<Figure size 432x288 with 1 Axes>"
      ]
     },
     "metadata": {
      "needs_background": "light"
     },
     "output_type": "display_data"
    }
   ],
   "source": [
    "plt.plot(est, rmse)\n",
    "plt.show()"
   ]
  },
  {
   "cell_type": "code",
   "execution_count": 15,
   "id": "b256dc96",
   "metadata": {},
   "outputs": [
    {
     "data": {
      "text/plain": [
       "{10: 0.2454,\n",
       " 20: 0.239,\n",
       " 30: 0.2353,\n",
       " 40: 0.2345,\n",
       " 50: 0.233,\n",
       " 60: 0.2327,\n",
       " 70: 0.2322,\n",
       " 80: 0.2323,\n",
       " 90: 0.232,\n",
       " 100: 0.2318,\n",
       " 110: 0.2317,\n",
       " 120: 0.2317,\n",
       " 130: 0.2318,\n",
       " 140: 0.2317,\n",
       " 150: 0.2316,\n",
       " 160: 0.2316,\n",
       " 170: 0.2315,\n",
       " 180: 0.2317,\n",
       " 190: 0.2317,\n",
       " 200: 0.2316}"
      ]
     },
     "execution_count": 15,
     "metadata": {},
     "output_type": "execute_result"
    }
   ],
   "source": [
    "est_rmse"
   ]
  },
  {
   "cell_type": "markdown",
   "id": "4330ce33",
   "metadata": {},
   "source": [
    "__Answer__ option `b) `__50__"
   ]
  },
  {
   "cell_type": "markdown",
   "id": "f2a28486",
   "metadata": {},
   "source": [
    "__Question 4__\n",
    "\n",
    "Let's select the best `max_depth`:\n",
    "\n",
    "- Try different values of `max_depth`: [10, 15, 20, 25]\n",
    "- For each of these values, try different values of `n_estimators` from 10 till 200 (with step 10)\n",
    "- Fix the random seed: `random_state=1`\n",
    "\n",
    "What's the best max_depth:\n",
    "\n",
    "- 10\n",
    "- 15\n",
    "- 20\n",
    "- 25"
   ]
  },
  {
   "cell_type": "code",
   "execution_count": 16,
   "id": "d37424d7",
   "metadata": {},
   "outputs": [],
   "source": [
    "depth_mean_rmse = {}\n",
    "\n",
    "depth = list(range(10,26,5))\n",
    "n_est = list(range(10,201,10))\n",
    "\n",
    "for curr_depth in depth:\n",
    "    rmses = []\n",
    "    for curr_est in n_est:\n",
    "        #@ TRAINING RANDOM FOREST MODEL:\n",
    "        rf = RandomForestRegressor(n_estimators=curr_est,random_state=1,n_jobs=-1,max_depth=curr_depth)\n",
    "        rf.fit(X_train,y_train)\n",
    "        y_val_pred = rf.predict(X_val)\n",
    "        rmse = round(mean_squared_error(y_val, y_val_pred)**.5,5)\n",
    "        rmses.append(rmse)\n",
    "        \n",
    "    depth_mean_rmse[curr_depth]= round(sum(rmses)/len(rmses),5)"
   ]
  },
  {
   "cell_type": "code",
   "execution_count": 17,
   "id": "2561f745",
   "metadata": {},
   "outputs": [
    {
     "data": {
      "text/plain": [
       "{10: 0.25004, 15: 0.23504, 20: 0.23347, 25: 0.23343}"
      ]
     },
     "execution_count": 17,
     "metadata": {},
     "output_type": "execute_result"
    }
   ],
   "source": [
    "depth_mean_rmse"
   ]
  },
  {
   "cell_type": "code",
   "execution_count": 18,
   "id": "5ecd8222",
   "metadata": {},
   "outputs": [],
   "source": [
    "#@ INSPECTING THE RMSE SCORES:\n",
    "lists = depth_mean_rmse.items()\n",
    "depth,rmse = zip(*lists)"
   ]
  },
  {
   "cell_type": "code",
   "execution_count": 19,
   "id": "006df36b",
   "metadata": {},
   "outputs": [
    {
     "data": {
      "image/png": "[encoded data removed]",
      "text/plain": [
       "<Figure size 432x288 with 1 Axes>"
      ]
     },
     "metadata": {
      "needs_background": "light"
     },
     "output_type": "display_data"
    }
   ],
   "source": [
    "plt.plot(depth, rmse)\n",
    "plt.show()"
   ]
  },
  {
   "cell_type": "markdown",
   "id": "f5d5b99e",
   "metadata": {},
   "source": [
    "__Answer__ option `b) `__25__"
   ]
  },
  {
   "cell_type": "markdown",
   "id": "3f84dee3",
   "metadata": {},
   "source": [
    "__Question 5__\n",
    "\n",
    "We can extract feature importance information from tree-based models.\n",
    "\n",
    "At each step of the decision tree learning algorith, it finds the best split. When doint it, we can calculate \"gain\" - the reduction in impurity before and after the split. This gain is quite useful in understanding what are the imporatant features for tree-based models.\n",
    "\n",
    "In Scikit-Learn, tree-based models contain this information in the `feature_importances_` field.\n",
    "\n",
    "For this homework question, we'll find the most important feature:\n",
    "\n",
    "- Train the model with these parametes\n",
    "\n",
    "  - `n_estimators=10`,\n",
    "\n",
    "  - `max_depth=20`,\n",
    "\n",
    "  - `random_state=1`,\n",
    "\n",
    "  - `n_jobs=-1` (optional)\n",
    "\n",
    "\n",
    "\n",
    "- Get the feature importance information from this model\n",
    "\n",
    "What's the most important feature?\n",
    "\n",
    "- `total_rooms`\n",
    "\n",
    "- `median_income`\n",
    "\n",
    "- `total_bedrooms`\n",
    "\n",
    "- `longitude`\n"
   ]
  },
  {
   "cell_type": "code",
   "execution_count": 20,
   "id": "94dcc21b",
   "metadata": {},
   "outputs": [
    {
     "data": {
      "text/plain": [
       "RandomForestRegressor(max_depth=20, n_estimators=10, n_jobs=-1, random_state=1)"
      ]
     },
     "execution_count": 20,
     "metadata": {},
     "output_type": "execute_result"
    }
   ],
   "source": [
    "#@ TRAINING THE RANDOM FOREST MODEL:\n",
    "\n",
    "rf = RandomForestRegressor(n_estimators=10,random_state=1,n_jobs=-1,max_depth=20)\n",
    "rf.fit(X_train,y_train)"
   ]
  },
  {
   "cell_type": "code",
   "execution_count": 21,
   "id": "2c69ff50",
   "metadata": {},
   "outputs": [
    {
     "data": {
      "text/plain": [
       "<BarContainer object of 13 artists>"
      ]
     },
     "execution_count": 21,
     "metadata": {},
     "output_type": "execute_result"
    },
    {
     "data": {
      "image/png": "[encoded data removed]",
      "text/plain": [
       "<Figure size 432x288 with 1 Axes>"
      ]
     },
     "metadata": {
      "needs_background": "light"
     },
     "output_type": "display_data"
    }
   ],
   "source": [
    "plt.barh(dv.feature_names_, rf.feature_importances_)"
   ]
  },
  {
   "cell_type": "markdown",
   "id": "6728ad28",
   "metadata": {},
   "source": [
    "__Answer__ option `b) `__median_income__"
   ]
  },
  {
   "cell_type": "markdown",
   "id": "64b5e6b5",
   "metadata": {},
   "source": [
    "__Question 6__\n",
    "\n",
    "Now let's train an XGBoost model! For this question, we'll tune the eta parameter:\n",
    "\n",
    "- Install XGBoost\n",
    "- Create DMatrix for train and validation\n",
    "- Create a watchlist\n",
    "- Train a model with these parameters for 100 rounds:\n",
    "    \n",
    "```python\n",
    "xgb_params = {\n",
    "    'eta': 0.3, \n",
    "    'max_depth': 6,\n",
    "    'min_child_weight': 1,\n",
    "    \n",
    "    'objective': 'reg:squarederror',\n",
    "    'nthread': 8,\n",
    "    \n",
    "    'seed': 1,\n",
    "    'verbosity': 1,\n",
    "}\n",
    "```\n",
    "\n",
    "Now change eta first to 0.1 and then to 0.01\n",
    "\n",
    "Which eta leads to the best RMSE score on the validation dataset?\n",
    "\n",
    "- 0.3\n",
    "- 0.1\n",
    "- Both gives same"
   ]
  },
  {
   "cell_type": "code",
   "execution_count": 22,
   "id": "9715173d",
   "metadata": {},
   "outputs": [],
   "source": [
    "features = dv.feature_names_\n",
    "\n",
    "regex = re.compile(r\"<\", re.IGNORECASE)\n",
    "features = [regex.sub(\"_\", col) if any(x in str(col) for x in set(('[', ']', '<'))) else col for col in features]\n",
    "\n",
    "dtrain = xgb.DMatrix(X_train, label=y_train, feature_names=features)\n",
    "dval = xgb.DMatrix(X_val, label=y_val, feature_names=features)"
   ]
  },
  {
   "cell_type": "code",
   "execution_count": 23,
   "id": "f760aec2",
   "metadata": {},
   "outputs": [],
   "source": [
    "xgb_params = {\n",
    "    'eta': 0.1, \n",
    "    'max_depth': 6,\n",
    "    'min_child_weight': 1,\n",
    "    'nthread': 8,\n",
    "    'seed': 1,\n",
    "    'verbosity': 1,\n",
    "}\n",
    "\n",
    "model = xgb.train(xgb_params,dtrain, num_boost_round=100)\n",
    "\n",
    "y_val_pred = model.predict(dval)\n",
    "rmse_01 = round(mean_squared_error(y_val,y_val_pred)**.5,4)"
   ]
  },
  {
   "cell_type": "code",
   "execution_count": 24,
   "id": "55aada69",
   "metadata": {},
   "outputs": [],
   "source": [
    "xgb_params = {\n",
    "    'eta': 0.3, \n",
    "    'max_depth': 6,\n",
    "    'min_child_weight': 1,\n",
    "    'nthread': 8,\n",
    "    'seed': 1,\n",
    "    'verbosity': 1,\n",
    "}\n",
    "\n",
    "model = xgb.train(xgb_params,dtrain, num_boost_round=100)\n",
    "\n",
    "y_val_pred = model.predict(dval)\n",
    "rmse_03    = round(mean_squared_error(y_val,y_val_pred)**.5,4)"
   ]
  },
  {
   "cell_type": "code",
   "execution_count": 25,
   "id": "1fbad1b1",
   "metadata": {},
   "outputs": [
    {
     "data": {
      "text/plain": [
       "False"
      ]
     },
     "execution_count": 25,
     "metadata": {},
     "output_type": "execute_result"
    }
   ],
   "source": [
    "rmse_01==rmse_03"
   ]
  },
  {
   "cell_type": "code",
   "execution_count": 26,
   "id": "a304d182",
   "metadata": {},
   "outputs": [
    {
     "data": {
      "text/plain": [
       "0.2325"
      ]
     },
     "execution_count": 26,
     "metadata": {},
     "output_type": "execute_result"
    }
   ],
   "source": [
    "rmse_01"
   ]
  },
  {
   "cell_type": "code",
   "execution_count": 27,
   "id": "a8cd71de",
   "metadata": {},
   "outputs": [
    {
     "data": {
      "text/plain": [
       "0.2278"
      ]
     },
     "execution_count": 27,
     "metadata": {},
     "output_type": "execute_result"
    }
   ],
   "source": [
    "rmse_03"
   ]
  },
  {
   "cell_type": "markdown",
   "id": "e268cdbd",
   "metadata": {},
   "source": [
    "__Answer__ option `b) `__0.1__"
   ]
  },
  {
   "cell_type": "code",
   "execution_count": null,
   "id": "3063cb37",
   "metadata": {},
   "outputs": [],
   "source": []
  }
 ],
 "metadata": {
  "kernelspec": {
   "display_name": "Python 3",
   "language": "python",
   "name": "python3"
  },
  "language_info": {
   "codemirror_mode": {
    "name": "ipython",
    "version": 3
   },
   "file_extension": ".py",
   "mimetype": "text/x-python",
   "name": "python",
   "nbconvert_exporter": "python",
   "pygments_lexer": "ipython3",
   "version": "3.9.12"
  }
 },
 "nbformat": 4,
 "nbformat_minor": 5
}
