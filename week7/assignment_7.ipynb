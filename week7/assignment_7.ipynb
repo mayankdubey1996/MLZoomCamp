{
 "cells": [
  {
   "cell_type": "code",
   "execution_count": 1,
   "id": "472ef052",
   "metadata": {},
   "outputs": [],
   "source": [
    "import bentoml\n",
    "from pydantic import BaseModel"
   ]
  },
  {
   "cell_type": "markdown",
   "id": "409da891",
   "metadata": {},
   "source": [
    "### Background\n",
    "You are a new recruit at ACME corp. Your manager is emailing you about your first assignment.\n",
    "\n",
    "### Email from your manager\n",
    "Good morning recruit! It's good to have you here! I have an assignment for you. I have a data scientist that's built a credit risk model in a jupyter notebook. I need you to run the notebook and save the model with BentoML and see how big the model is. If it's greater than a certain size, I'm going to have to request additional resources from our infra team. Please let me know how big it is.\n",
    "\n",
    "Thanks,\n",
    "\n",
    "Mr McManager"
   ]
  },
  {
   "cell_type": "markdown",
   "id": "ffcbaa08",
   "metadata": {},
   "source": [
    "### Question 1\n",
    "\n",
    "- Install BentoML\n",
    "- What's the version of BentoML you installed?\n",
    "- Use --version to find out"
   ]
  },
  {
   "cell_type": "code",
   "execution_count": 2,
   "id": "a74ff777",
   "metadata": {},
   "outputs": [
    {
     "data": {
      "text/plain": [
       "'1.0.7'"
      ]
     },
     "execution_count": 2,
     "metadata": {},
     "output_type": "execute_result"
    }
   ],
   "source": [
    "bentoml.__version__"
   ]
  },
  {
   "cell_type": "markdown",
   "id": "37ebd9c9",
   "metadata": {},
   "source": [
    "### Question 2\n",
    "Run the notebook which contains random forest model from module 6 i.e previous module and save the model with BentoML. To make it easier for you we have prepared this notebook.\n",
    "\n",
    "How big approximately is the saved BentoML model? Size can slightly vary depending on your local development environment. Choose the size closest to your model.\n",
    "\n",
    "- 924kb\n",
    "- 724kb\n",
    "- 114kb\n",
    "- 8kb"
   ]
  },
  {
   "cell_type": "code",
   "execution_count": 3,
   "id": "cc348c43",
   "metadata": {},
   "outputs": [
    {
     "name": "stderr",
     "output_type": "stream",
     "text": [
      "C:\\Users\\mayan\\AppData\\Roaming\\Python\\Python39\\site-packages\\xgboost\\compat.py:31: FutureWarning: pandas.Int64Index is deprecated and will be removed from pandas in a future version. Use pandas.Index with the appropriate dtype instead.\n",
      "  from pandas import MultiIndex, Int64Index\n"
     ]
    }
   ],
   "source": [
    "model_ref = bentoml.xgboost.get(\"credit_model:gapplw2ussjgoaav\")\n",
    "model_runner = model_ref.to_runner()"
   ]
  },
  {
   "cell_type": "markdown",
   "id": "471e4d9e",
   "metadata": {},
   "source": [
    "__Answer:__ __`C`:`120Kb`__"
   ]
  },
  {
   "cell_type": "markdown",
   "id": "7383c0f8",
   "metadata": {},
   "source": [
    "### Another email from your manager\n",
    "Great job recruit! Looks like I won't be having to go back to the procurement team. Thanks for the information.\n",
    "\n",
    "However, I just got word from one of the teams that's using one of our ML services and they're saying our service is \"broken\" and their trying to blame our model. I looked at the data their sending and it's completely bogus. I don't want them to send bad data to us and blame us for our models. Could you write a pydantic schema for the data that they should be sending? That way next time it will tell them it's their data that's bad and not our model.\n",
    "\n",
    "Thanks,\n",
    "\n",
    "Mr McManager"
   ]
  },
  {
   "cell_type": "markdown",
   "id": "fea5f3e0",
   "metadata": {},
   "source": [
    "### Question 3\n",
    "Say you have the following data that you're sending to your service:\n",
    "\n",
    "```python\n",
    "{\n",
    "  \"name\": \"Tim\",\n",
    "  \"age\": 37,\n",
    "  \"country\": \"US\",\n",
    "  \"rating\": 3.14\n",
    "}\n",
    "```\n",
    "What would the pydantic class look like? You can name the class UserProfile."
   ]
  },
  {
   "cell_type": "code",
   "execution_count": 4,
   "id": "58667f4c",
   "metadata": {},
   "outputs": [],
   "source": [
    "class UserProfile(BaseModel):\n",
    "    name: str\n",
    "    age: int\n",
    "    country: str\n",
    "    rating: float"
   ]
  },
  {
   "cell_type": "markdown",
   "id": "5ff88d8b",
   "metadata": {},
   "source": [
    "### Email from your CEO\n",
    "Good morning! I hear you're the one to go to if I need something done well! We've got a new model that a big client needs deployed ASAP. I need you to build a service with it and test it against the old model and make sure that it performs better, otherwise we're going to lose this client. All our hopes are with you!\n",
    "\n",
    "Thanks,\n",
    "\n",
    "CEO of Acme Corp"
   ]
  },
  {
   "cell_type": "markdown",
   "id": "96edef11",
   "metadata": {},
   "source": [
    "### Question 4\n",
    "We've prepared a model for you that you can import using:\n",
    "\n",
    "```\n",
    "curl -O https://s3.us-west-2.amazonaws.com/bentoml.com/mlzoomcamp/coolmodel.bentomodel\n",
    "bentoml models import coolmodel.bentomodel\n",
    "```\n",
    "What version of scikit-learn was this model trained with?\n",
    "\n",
    "- 1.1.1\n",
    "- 1.1.2\n",
    "- 1.1.3 \n",
    "- 1.1.4\n",
    "- 1.1.5"
   ]
  },
  {
   "cell_type": "markdown",
   "id": "797ac810",
   "metadata": {},
   "source": [
    "__Answer:__ __`A`:`1.1.1`__"
   ]
  },
  {
   "cell_type": "markdown",
   "id": "9d9be6cc",
   "metadata": {},
   "source": [
    "### Question 5\n",
    "Create a bento out of this scikit-learn model. The output type for this endpoint should be NumpyNdarray()\n",
    "\n",
    "Send this array to the Bento:\n",
    "\n",
    "```\n",
    "[[6.4,3.5,4.5,1.2]]\n",
    "```\n",
    "You can use curl or the Swagger UI. What value does it return?\n",
    "\n",
    "- 0\n",
    "- 1\n",
    "- 2\n",
    "- 3\n",
    "(Make sure your environment has Scikit-Learn installed)"
   ]
  },
  {
   "cell_type": "markdown",
   "id": "01e1821a",
   "metadata": {},
   "source": [
    "__Answer:__ __`B`:`1`__"
   ]
  },
  {
   "cell_type": "markdown",
   "id": "47749a54",
   "metadata": {},
   "source": [
    "### Question 6\n",
    "Ensure to serve your bento with --production for this question\n",
    "\n",
    "Install locust using:\n",
    "\n",
    "pip install locust\n",
    "Use the following locust file: locustfile.py\n",
    "\n",
    "Ensure that it is pointed at your bento's endpoint (In case you didn't name your endpoint \"classify\")"
   ]
  },
  {
   "cell_type": "code",
   "execution_count": null,
   "id": "7a801b45",
   "metadata": {},
   "outputs": [],
   "source": []
  }
 ],
 "metadata": {
  "kernelspec": {
   "display_name": "Python 3",
   "language": "python",
   "name": "python3"
  },
  "language_info": {
   "codemirror_mode": {
    "name": "ipython",
    "version": 3
   },
   "file_extension": ".py",
   "mimetype": "text/x-python",
   "name": "python",
   "nbconvert_exporter": "python",
   "pygments_lexer": "ipython3",
   "version": "3.9.12"
  }
 },
 "nbformat": 4,
 "nbformat_minor": 5
}
